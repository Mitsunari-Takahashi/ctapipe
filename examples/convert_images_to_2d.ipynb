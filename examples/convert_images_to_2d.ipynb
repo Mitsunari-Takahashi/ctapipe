{
 "cells": [
  {
   "cell_type": "markdown",
   "metadata": {},
   "source": [
    "# Convert camera images to pixels on a s square grid"
   ]
  },
  {
   "cell_type": "code",
   "execution_count": 1,
   "metadata": {
    "execution": {
     "iopub.execute_input": "2022-07-04T14:49:39.882480Z",
     "iopub.status.busy": "2022-07-04T14:49:39.882189Z",
     "iopub.status.idle": "2022-07-04T14:49:44.090146Z",
     "shell.execute_reply": "2022-07-04T14:49:44.089355Z"
    }
   },
   "outputs": [],
   "source": [
    "from ctapipe.utils import get_dataset_path\n",
    "from ctapipe.visualization import CameraDisplay\n",
    "from ctapipe.instrument import CameraGeometry\n",
    "from ctapipe.io import EventSource\n",
    "from ctapipe.image.toymodel import Gaussian\n",
    "import matplotlib.pyplot as plt\n",
    "import astropy.units as u"
   ]
  },
  {
   "cell_type": "markdown",
   "metadata": {},
   "source": [
    "## Geometries with square pixels\n",
    "\n",
    "Define a camera geometry and generate a dummy image:"
   ]
  },
  {
   "cell_type": "code",
   "execution_count": 2,
   "metadata": {
    "execution": {
     "iopub.execute_input": "2022-07-04T14:49:44.094358Z",
     "iopub.status.busy": "2022-07-04T14:49:44.093706Z",
     "iopub.status.idle": "2022-07-04T14:49:44.427369Z",
     "shell.execute_reply": "2022-07-04T14:49:44.426536Z"
    }
   },
   "outputs": [
    {
     "data": {
      "application/vnd.jupyter.widget-view+json": {
       "model_id": "dc574d6d61ee48e6959dfc271b755246",
       "version_major": 2,
       "version_minor": 0
      },
      "text/plain": [
       "Downloading CHEC.camgeom.fits.gz:   0%|          | 0.00/9.55k [00:00<?, ?B/s]"
      ]
     },
     "metadata": {},
     "output_type": "display_data"
    }
   ],
   "source": [
    "geom = CameraGeometry.from_name('CHEC')\n",
    "model = Gaussian(\n",
    "        x=0.05*u.m,\n",
    "        y=0.05*u.m,\n",
    "        width=0.01*u.m,\n",
    "        length=0.05*u.m,\n",
    "        psi='30d',\n",
    "    )\n",
    "_, image, _ = model.generate_image(\n",
    "    geom, intensity=500, nsb_level_pe=3\n",
    ")"
   ]
  },
  {
   "cell_type": "code",
   "execution_count": 3,
   "metadata": {
    "execution": {
     "iopub.execute_input": "2022-07-04T14:49:44.430998Z",
     "iopub.status.busy": "2022-07-04T14:49:44.430766Z",
     "iopub.status.idle": "2022-07-04T14:49:44.676694Z",
     "shell.execute_reply": "2022-07-04T14:49:44.676149Z"
    }
   },
   "outputs": [
    {
     "data": {
      "text/plain": [
       "<ctapipe.visualization.mpl_camera.CameraDisplay at 0x7f228c713c40>"
      ]
     },
     "execution_count": 3,
     "metadata": {},
     "output_type": "execute_result"
    }
   ],
   "source": [
    "\n",
    "CameraDisplay(geom, image)"
   ]
  },
  {
   "cell_type": "markdown",
   "metadata": {},
   "source": [
    "The `CameraGeometry` has functions to convert the 1d image arrays to 2d arrays and back to the 1d array:"
   ]
  },
  {
   "cell_type": "code",
   "execution_count": 4,
   "metadata": {
    "execution": {
     "iopub.execute_input": "2022-07-04T14:49:44.680908Z",
     "iopub.status.busy": "2022-07-04T14:49:44.679869Z",
     "iopub.status.idle": "2022-07-04T14:49:44.684790Z",
     "shell.execute_reply": "2022-07-04T14:49:44.684356Z"
    }
   },
   "outputs": [],
   "source": [
    "image_square = geom.image_to_cartesian_representation(image)"
   ]
  },
  {
   "cell_type": "code",
   "execution_count": 5,
   "metadata": {
    "execution": {
     "iopub.execute_input": "2022-07-04T14:49:44.688536Z",
     "iopub.status.busy": "2022-07-04T14:49:44.687568Z",
     "iopub.status.idle": "2022-07-04T14:49:44.693922Z",
     "shell.execute_reply": "2022-07-04T14:49:44.693497Z"
    }
   },
   "outputs": [
    {
     "data": {
      "text/plain": [
       "<matplotlib.image.AxesImage at 0x7f228c7138b0>"
      ]
     },
     "execution_count": 5,
     "metadata": {},
     "output_type": "execute_result"
    }
   ],
   "source": [
    "plt.imshow(image_square)"
   ]
  },
  {
   "cell_type": "code",
   "execution_count": 6,
   "metadata": {
    "execution": {
     "iopub.execute_input": "2022-07-04T14:49:44.697705Z",
     "iopub.status.busy": "2022-07-04T14:49:44.696716Z",
     "iopub.status.idle": "2022-07-04T14:49:44.700503Z",
     "shell.execute_reply": "2022-07-04T14:49:44.700081Z"
    }
   },
   "outputs": [],
   "source": [
    "image_1d = geom.image_from_cartesian_representation(image_square)"
   ]
  },
  {
   "cell_type": "code",
   "execution_count": 7,
   "metadata": {
    "execution": {
     "iopub.execute_input": "2022-07-04T14:49:44.704279Z",
     "iopub.status.busy": "2022-07-04T14:49:44.703372Z",
     "iopub.status.idle": "2022-07-04T14:49:44.932838Z",
     "shell.execute_reply": "2022-07-04T14:49:44.931661Z"
    }
   },
   "outputs": [
    {
     "data": {
      "text/plain": [
       "<ctapipe.visualization.mpl_camera.CameraDisplay at 0x7f228c776b50>"
      ]
     },
     "execution_count": 7,
     "metadata": {},
     "output_type": "execute_result"
    }
   ],
   "source": [
    "CameraDisplay(geom, image_1d)"
   ]
  },
  {
   "cell_type": "markdown",
   "metadata": {},
   "source": [
    "## Geometries with hexagonal pixels\n",
    "\n",
    "Define a camera geometry and generate a dummy image:"
   ]
  },
  {
   "cell_type": "code",
   "execution_count": 8,
   "metadata": {
    "execution": {
     "iopub.execute_input": "2022-07-04T14:49:44.936543Z",
     "iopub.status.busy": "2022-07-04T14:49:44.936307Z",
     "iopub.status.idle": "2022-07-04T14:49:44.952127Z",
     "shell.execute_reply": "2022-07-04T14:49:44.950926Z"
    }
   },
   "outputs": [],
   "source": [
    "geom = CameraGeometry.from_name('LSTCam')\n",
    "model = Gaussian(\n",
    "        x=0.5*u.m,\n",
    "        y=0.5*u.m,\n",
    "        width=0.1*u.m,\n",
    "        length=0.2*u.m,\n",
    "        psi='30d',\n",
    "    )\n",
    "_, image, _ = model.generate_image(\n",
    "    geom, intensity=5000\n",
    ")"
   ]
  },
  {
   "cell_type": "code",
   "execution_count": 9,
   "metadata": {
    "execution": {
     "iopub.execute_input": "2022-07-04T14:49:44.954798Z",
     "iopub.status.busy": "2022-07-04T14:49:44.954608Z",
     "iopub.status.idle": "2022-07-04T14:49:45.310369Z",
     "shell.execute_reply": "2022-07-04T14:49:45.309662Z"
    }
   },
   "outputs": [
    {
     "data": {
      "text/plain": [
       "<ctapipe.visualization.mpl_camera.CameraDisplay at 0x7f228c87c280>"
      ]
     },
     "execution_count": 9,
     "metadata": {},
     "output_type": "execute_result"
    }
   ],
   "source": [
    "CameraDisplay(geom, image)"
   ]
  },
  {
   "cell_type": "code",
   "execution_count": 10,
   "metadata": {
    "execution": {
     "iopub.execute_input": "2022-07-04T14:49:45.314010Z",
     "iopub.status.busy": "2022-07-04T14:49:45.313497Z",
     "iopub.status.idle": "2022-07-04T14:49:45.319840Z",
     "shell.execute_reply": "2022-07-04T14:49:45.319229Z"
    }
   },
   "outputs": [],
   "source": [
    "image_square = geom.image_to_cartesian_representation(image)"
   ]
  },
  {
   "cell_type": "markdown",
   "metadata": {},
   "source": [
    "## Conversion into square geometry\n",
    "\n",
    "Since the resulting array has square pixels, the pixel grid has to be rotated and distorted.\n",
    "This is reversible (The `image_from_cartesian_representation` method takes care of this):"
   ]
  },
  {
   "cell_type": "code",
   "execution_count": 11,
   "metadata": {
    "execution": {
     "iopub.execute_input": "2022-07-04T14:49:45.323309Z",
     "iopub.status.busy": "2022-07-04T14:49:45.322814Z",
     "iopub.status.idle": "2022-07-04T14:49:45.329402Z",
     "shell.execute_reply": "2022-07-04T14:49:45.328819Z"
    }
   },
   "outputs": [
    {
     "data": {
      "text/plain": [
       "<matplotlib.image.AxesImage at 0x7f228aedad90>"
      ]
     },
     "execution_count": 11,
     "metadata": {},
     "output_type": "execute_result"
    }
   ],
   "source": [
    "plt.imshow(image_square)"
   ]
  },
  {
   "cell_type": "code",
   "execution_count": 12,
   "metadata": {
    "execution": {
     "iopub.execute_input": "2022-07-04T14:49:45.332079Z",
     "iopub.status.busy": "2022-07-04T14:49:45.331536Z",
     "iopub.status.idle": "2022-07-04T14:49:45.335737Z",
     "shell.execute_reply": "2022-07-04T14:49:45.334494Z"
    }
   },
   "outputs": [],
   "source": [
    "image_1d = geom.image_from_cartesian_representation(image_square)"
   ]
  },
  {
   "cell_type": "code",
   "execution_count": 13,
   "metadata": {
    "execution": {
     "iopub.execute_input": "2022-07-04T14:49:45.338375Z",
     "iopub.status.busy": "2022-07-04T14:49:45.338146Z",
     "iopub.status.idle": "2022-07-04T14:49:45.665117Z",
     "shell.execute_reply": "2022-07-04T14:49:45.663932Z"
    }
   },
   "outputs": [],
   "source": [
    "disp = CameraDisplay(geom, image_1d)"
   ]
  },
  {
   "cell_type": "code",
   "execution_count": null,
   "metadata": {},
   "outputs": [],
   "source": []
  }
 ],
 "metadata": {
  "kernelspec": {
   "display_name": "Python 3",
   "language": "python",
   "name": "python3"
  },
  "language_info": {
   "codemirror_mode": {
    "name": "ipython",
    "version": 3
   },
   "file_extension": ".py",
   "mimetype": "text/x-python",
   "name": "python",
   "nbconvert_exporter": "python",
   "pygments_lexer": "ipython3",
   "version": "3.8.13"
  },
  "widgets": {
   "application/vnd.jupyter.widget-state+json": {
    "state": {
     "1bbad54dbf374be6b3680e59b194137d": {
      "model_module": "@jupyter-widgets/controls",
      "model_module_version": "1.5.0",
      "model_name": "FloatProgressModel",
      "state": {
       "_dom_classes": [],
       "_model_module": "@jupyter-widgets/controls",
       "_model_module_version": "1.5.0",
       "_model_name": "FloatProgressModel",
       "_view_count": null,
       "_view_module": "@jupyter-widgets/controls",
       "_view_module_version": "1.5.0",
       "_view_name": "ProgressView",
       "bar_style": "success",
       "description": "",
       "description_tooltip": null,
       "layout": "IPY_MODEL_e491d5dd821b4138be7822f0fdcd97fd",
       "max": 9555.0,
       "min": 0.0,
       "orientation": "horizontal",
       "style": "IPY_MODEL_f4b92583c75d411f8abcd481434dba09",
       "value": 9555.0
      }
     },
     "6baee4b9e26444cc87e7a17d1f8742c8": {
      "model_module": "@jupyter-widgets/controls",
      "model_module_version": "1.5.0",
      "model_name": "HTMLModel",
      "state": {
       "_dom_classes": [],
       "_model_module": "@jupyter-widgets/controls",
       "_model_module_version": "1.5.0",
       "_model_name": "HTMLModel",
       "_view_count": null,
       "_view_module": "@jupyter-widgets/controls",
       "_view_module_version": "1.5.0",
       "_view_name": "HTMLView",
       "description": "",
       "description_tooltip": null,
       "layout": "IPY_MODEL_e7dfa3d9cb4648d597e7333ca915ce77",
       "placeholder": "​",
       "style": "IPY_MODEL_b478d28b66304dfa9193c0626872b138",
       "value": " 9.55k/9.55k [00:00&lt;00:00, 307kB/s]"
      }
     },
     "9c7896c486b547ceafcc696d808a2df0": {
      "model_module": "@jupyter-widgets/controls",
      "model_module_version": "1.5.0",
      "model_name": "DescriptionStyleModel",
      "state": {
       "_model_module": "@jupyter-widgets/controls",
       "_model_module_version": "1.5.0",
       "_model_name": "DescriptionStyleModel",
       "_view_count": null,
       "_view_module": "@jupyter-widgets/base",
       "_view_module_version": "1.2.0",
       "_view_name": "StyleView",
       "description_width": ""
      }
     },
     "9f86434d796940f1b816b9310e26e422": {
      "model_module": "@jupyter-widgets/base",
      "model_module_version": "1.2.0",
      "model_name": "LayoutModel",
      "state": {
       "_model_module": "@jupyter-widgets/base",
       "_model_module_version": "1.2.0",
       "_model_name": "LayoutModel",
       "_view_count": null,
       "_view_module": "@jupyter-widgets/base",
       "_view_module_version": "1.2.0",
       "_view_name": "LayoutView",
       "align_content": null,
       "align_items": null,
       "align_self": null,
       "border": null,
       "bottom": null,
       "display": null,
       "flex": null,
       "flex_flow": null,
       "grid_area": null,
       "grid_auto_columns": null,
       "grid_auto_flow": null,
       "grid_auto_rows": null,
       "grid_column": null,
       "grid_gap": null,
       "grid_row": null,
       "grid_template_areas": null,
       "grid_template_columns": null,
       "grid_template_rows": null,
       "height": null,
       "justify_content": null,
       "justify_items": null,
       "left": null,
       "margin": null,
       "max_height": null,
       "max_width": null,
       "min_height": null,
       "min_width": null,
       "object_fit": null,
       "object_position": null,
       "order": null,
       "overflow": null,
       "overflow_x": null,
       "overflow_y": null,
       "padding": null,
       "right": null,
       "top": null,
       "visibility": null,
       "width": null
      }
     },
     "b478d28b66304dfa9193c0626872b138": {
      "model_module": "@jupyter-widgets/controls",
      "model_module_version": "1.5.0",
      "model_name": "DescriptionStyleModel",
      "state": {
       "_model_module": "@jupyter-widgets/controls",
       "_model_module_version": "1.5.0",
       "_model_name": "DescriptionStyleModel",
       "_view_count": null,
       "_view_module": "@jupyter-widgets/base",
       "_view_module_version": "1.2.0",
       "_view_name": "StyleView",
       "description_width": ""
      }
     },
     "d7aa298a09224bf385357f719f146e18": {
      "model_module": "@jupyter-widgets/base",
      "model_module_version": "1.2.0",
      "model_name": "LayoutModel",
      "state": {
       "_model_module": "@jupyter-widgets/base",
       "_model_module_version": "1.2.0",
       "_model_name": "LayoutModel",
       "_view_count": null,
       "_view_module": "@jupyter-widgets/base",
       "_view_module_version": "1.2.0",
       "_view_name": "LayoutView",
       "align_content": null,
       "align_items": null,
       "align_self": null,
       "border": null,
       "bottom": null,
       "display": null,
       "flex": null,
       "flex_flow": null,
       "grid_area": null,
       "grid_auto_columns": null,
       "grid_auto_flow": null,
       "grid_auto_rows": null,
       "grid_column": null,
       "grid_gap": null,
       "grid_row": null,
       "grid_template_areas": null,
       "grid_template_columns": null,
       "grid_template_rows": null,
       "height": null,
       "justify_content": null,
       "justify_items": null,
       "left": null,
       "margin": null,
       "max_height": null,
       "max_width": null,
       "min_height": null,
       "min_width": null,
       "object_fit": null,
       "object_position": null,
       "order": null,
       "overflow": null,
       "overflow_x": null,
       "overflow_y": null,
       "padding": null,
       "right": null,
       "top": null,
       "visibility": null,
       "width": null
      }
     },
     "dc574d6d61ee48e6959dfc271b755246": {
      "model_module": "@jupyter-widgets/controls",
      "model_module_version": "1.5.0",
      "model_name": "HBoxModel",
      "state": {
       "_dom_classes": [],
       "_model_module": "@jupyter-widgets/controls",
       "_model_module_version": "1.5.0",
       "_model_name": "HBoxModel",
       "_view_count": null,
       "_view_module": "@jupyter-widgets/controls",
       "_view_module_version": "1.5.0",
       "_view_name": "HBoxView",
       "box_style": "",
       "children": [
        "IPY_MODEL_e45364700a78413382a80ddfba59d4f5",
        "IPY_MODEL_1bbad54dbf374be6b3680e59b194137d",
        "IPY_MODEL_6baee4b9e26444cc87e7a17d1f8742c8"
       ],
       "layout": "IPY_MODEL_9f86434d796940f1b816b9310e26e422"
      }
     },
     "e45364700a78413382a80ddfba59d4f5": {
      "model_module": "@jupyter-widgets/controls",
      "model_module_version": "1.5.0",
      "model_name": "HTMLModel",
      "state": {
       "_dom_classes": [],
       "_model_module": "@jupyter-widgets/controls",
       "_model_module_version": "1.5.0",
       "_model_name": "HTMLModel",
       "_view_count": null,
       "_view_module": "@jupyter-widgets/controls",
       "_view_module_version": "1.5.0",
       "_view_name": "HTMLView",
       "description": "",
       "description_tooltip": null,
       "layout": "IPY_MODEL_d7aa298a09224bf385357f719f146e18",
       "placeholder": "​",
       "style": "IPY_MODEL_9c7896c486b547ceafcc696d808a2df0",
       "value": "Downloading CHEC.camgeom.fits.gz: 100%"
      }
     },
     "e491d5dd821b4138be7822f0fdcd97fd": {
      "model_module": "@jupyter-widgets/base",
      "model_module_version": "1.2.0",
      "model_name": "LayoutModel",
      "state": {
       "_model_module": "@jupyter-widgets/base",
       "_model_module_version": "1.2.0",
       "_model_name": "LayoutModel",
       "_view_count": null,
       "_view_module": "@jupyter-widgets/base",
       "_view_module_version": "1.2.0",
       "_view_name": "LayoutView",
       "align_content": null,
       "align_items": null,
       "align_self": null,
       "border": null,
       "bottom": null,
       "display": null,
       "flex": null,
       "flex_flow": null,
       "grid_area": null,
       "grid_auto_columns": null,
       "grid_auto_flow": null,
       "grid_auto_rows": null,
       "grid_column": null,
       "grid_gap": null,
       "grid_row": null,
       "grid_template_areas": null,
       "grid_template_columns": null,
       "grid_template_rows": null,
       "height": null,
       "justify_content": null,
       "justify_items": null,
       "left": null,
       "margin": null,
       "max_height": null,
       "max_width": null,
       "min_height": null,
       "min_width": null,
       "object_fit": null,
       "object_position": null,
       "order": null,
       "overflow": null,
       "overflow_x": null,
       "overflow_y": null,
       "padding": null,
       "right": null,
       "top": null,
       "visibility": null,
       "width": null
      }
     },
     "e7dfa3d9cb4648d597e7333ca915ce77": {
      "model_module": "@jupyter-widgets/base",
      "model_module_version": "1.2.0",
      "model_name": "LayoutModel",
      "state": {
       "_model_module": "@jupyter-widgets/base",
       "_model_module_version": "1.2.0",
       "_model_name": "LayoutModel",
       "_view_count": null,
       "_view_module": "@jupyter-widgets/base",
       "_view_module_version": "1.2.0",
       "_view_name": "LayoutView",
       "align_content": null,
       "align_items": null,
       "align_self": null,
       "border": null,
       "bottom": null,
       "display": null,
       "flex": null,
       "flex_flow": null,
       "grid_area": null,
       "grid_auto_columns": null,
       "grid_auto_flow": null,
       "grid_auto_rows": null,
       "grid_column": null,
       "grid_gap": null,
       "grid_row": null,
       "grid_template_areas": null,
       "grid_template_columns": null,
       "grid_template_rows": null,
       "height": null,
       "justify_content": null,
       "justify_items": null,
       "left": null,
       "margin": null,
       "max_height": null,
       "max_width": null,
       "min_height": null,
       "min_width": null,
       "object_fit": null,
       "object_position": null,
       "order": null,
       "overflow": null,
       "overflow_x": null,
       "overflow_y": null,
       "padding": null,
       "right": null,
       "top": null,
       "visibility": null,
       "width": null
      }
     },
     "f4b92583c75d411f8abcd481434dba09": {
      "model_module": "@jupyter-widgets/controls",
      "model_module_version": "1.5.0",
      "model_name": "ProgressStyleModel",
      "state": {
       "_model_module": "@jupyter-widgets/controls",
       "_model_module_version": "1.5.0",
       "_model_name": "ProgressStyleModel",
       "_view_count": null,
       "_view_module": "@jupyter-widgets/base",
       "_view_module_version": "1.2.0",
       "_view_name": "StyleView",
       "bar_color": null,
       "description_width": ""
      }
     }
    },
    "version_major": 2,
    "version_minor": 0
   }
  }
 },
 "nbformat": 4,
 "nbformat_minor": 4
}
