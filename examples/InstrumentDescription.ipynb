{
 "cells": [
  {
   "cell_type": "markdown",
   "metadata": {},
   "source": [
    "# Working with Instrumental Descriptions\n",
    "\n",
    "the instrumental description is loaded by the event source, and consists of a hierarchy of classes in the ctapipe.instrument module, the base of which is the `SubarrayDescription`"
   ]
  },
  {
   "cell_type": "code",
   "execution_count": 1,
   "metadata": {
    "execution": {
     "iopub.execute_input": "2022-07-04T14:48:59.996086Z",
     "iopub.status.busy": "2022-07-04T14:48:59.995613Z",
     "iopub.status.idle": "2022-07-04T14:49:09.490698Z",
     "shell.execute_reply": "2022-07-04T14:49:09.489883Z"
    },
    "scrolled": false
   },
   "outputs": [
    {
     "data": {
      "application/vnd.jupyter.widget-view+json": {
       "model_id": "822b5fc134594df8a3c919a79c5664c6",
       "version_major": 2,
       "version_minor": 0
      },
      "text/plain": [
       "Downloading gamma_prod5.simtel.zst:   0%|          | 0.00/17.5M [00:00<?, ?B/s]"
      ]
     },
     "metadata": {},
     "output_type": "display_data"
    }
   ],
   "source": [
    "from ctapipe.utils.datasets import get_dataset_path\n",
    "from ctapipe.io import EventSource\n",
    "import numpy as np\n",
    "\n",
    "filename = get_dataset_path(\"gamma_prod5.simtel.zst\")  \n",
    "\n",
    "with EventSource(filename, max_events=1) as source:\n",
    "    subarray = source.subarray"
   ]
  },
  {
   "cell_type": "markdown",
   "metadata": {},
   "source": [
    "## the SubarrayDescription:"
   ]
  },
  {
   "cell_type": "code",
   "execution_count": 2,
   "metadata": {
    "execution": {
     "iopub.execute_input": "2022-07-04T14:49:09.496573Z",
     "iopub.status.busy": "2022-07-04T14:49:09.495398Z",
     "iopub.status.idle": "2022-07-04T14:49:09.583871Z",
     "shell.execute_reply": "2022-07-04T14:49:09.583288Z"
    }
   },
   "outputs": [
    {
     "name": "stdout",
     "output_type": "stream",
     "text": [
      "Subarray : MonteCarloArray\n",
      "Num Tels : 180\n",
      "Footprint: 4.92 km2\n",
      "\n",
      "       Type       Count     Tel IDs    \n",
      "----------------- ----- ---------------\n",
      "MST_MST_NectarCam    28 100-124,128-130\n",
      " MST_MST_FlashCam    28 5-29,125-127   \n",
      "   LST_LST_LSTCam     4 1-4            \n",
      "   SST_ASTRI_CHEC   120 30-99,131-180  \n"
     ]
    }
   ],
   "source": [
    "subarray.info()"
   ]
  },
  {
   "cell_type": "code",
   "execution_count": 3,
   "metadata": {
    "execution": {
     "iopub.execute_input": "2022-07-04T14:49:09.588478Z",
     "iopub.status.busy": "2022-07-04T14:49:09.587363Z",
     "iopub.status.idle": "2022-07-04T14:49:09.789583Z",
     "shell.execute_reply": "2022-07-04T14:49:09.788980Z"
    }
   },
   "outputs": [
    {
     "data": {
      "text/html": [
       "<div><i>Table length=180</i>\n",
       "<table id=\"table140508297935312\" class=\"table-striped table-bordered table-condensed\">\n",
       "<thead><tr><th>tel_id</th><th>pos_x</th><th>pos_y</th><th>pos_z</th><th>name</th><th>type</th><th>camera_type</th><th>camera_index</th><th>optics_index</th><th>tel_description</th></tr></thead>\n",
       "<thead><tr><th></th><th>m</th><th>m</th><th>m</th><th></th><th></th><th></th><th></th><th></th><th></th></tr></thead>\n",
       "<thead><tr><th>int16</th><th>float32</th><th>float32</th><th>float32</th><th>str5</th><th>str3</th><th>str9</th><th>int64</th><th>int64</th><th>str17</th></tr></thead>\n",
       "<tr><td>1</td><td>-20.643</td><td>-64.817</td><td>34.3</td><td>LST</td><td>LST</td><td>LSTCam</td><td>0</td><td>2</td><td>LST_LST_LSTCam</td></tr>\n",
       "<tr><td>2</td><td>79.993996</td><td>-0.768</td><td>29.4</td><td>LST</td><td>LST</td><td>LSTCam</td><td>0</td><td>2</td><td>LST_LST_LSTCam</td></tr>\n",
       "<tr><td>3</td><td>-19.396</td><td>65.2</td><td>31.0</td><td>LST</td><td>LST</td><td>LSTCam</td><td>0</td><td>2</td><td>LST_LST_LSTCam</td></tr>\n",
       "<tr><td>4</td><td>-120.033</td><td>1.151</td><td>33.1</td><td>LST</td><td>LST</td><td>LSTCam</td><td>0</td><td>2</td><td>LST_LST_LSTCam</td></tr>\n",
       "<tr><td>5</td><td>-0.017</td><td>-0.001</td><td>24.35</td><td>MST</td><td>MST</td><td>FlashCam</td><td>1</td><td>1</td><td>MST_MST_FlashCam</td></tr>\n",
       "<tr><td>6</td><td>-1.468</td><td>-151.221</td><td>31.0</td><td>MST</td><td>MST</td><td>FlashCam</td><td>1</td><td>1</td><td>MST_MST_FlashCam</td></tr>\n",
       "<tr><td>7</td><td>-3.1379998</td><td>-325.245</td><td>39.0</td><td>MST</td><td>MST</td><td>FlashCam</td><td>1</td><td>1</td><td>MST_MST_FlashCam</td></tr>\n",
       "<tr><td>8</td><td>1.4339999</td><td>151.22</td><td>25.0</td><td>MST</td><td>MST</td><td>FlashCam</td><td>1</td><td>1</td><td>MST_MST_FlashCam</td></tr>\n",
       "<tr><td>9</td><td>3.1039999</td><td>325.243</td><td>23.5</td><td>MST</td><td>MST</td><td>FlashCam</td><td>1</td><td>1</td><td>MST_MST_FlashCam</td></tr>\n",
       "<tr><td>...</td><td>...</td><td>...</td><td>...</td><td>...</td><td>...</td><td>...</td><td>...</td><td>...</td><td>...</td></tr>\n",
       "<tr><td>171</td><td>260.0</td><td>920.0</td><td>45.0</td><td>ASTRI</td><td>SST</td><td>CHEC</td><td>3</td><td>3</td><td>SST_ASTRI_CHEC</td></tr>\n",
       "<tr><td>172</td><td>260.0</td><td>-920.0</td><td>65.0</td><td>ASTRI</td><td>SST</td><td>CHEC</td><td>3</td><td>3</td><td>SST_ASTRI_CHEC</td></tr>\n",
       "<tr><td>173</td><td>-500.0</td><td>815.0</td><td>15.0</td><td>ASTRI</td><td>SST</td><td>CHEC</td><td>3</td><td>3</td><td>SST_ASTRI_CHEC</td></tr>\n",
       "<tr><td>174</td><td>-500.0</td><td>-815.0</td><td>75.0</td><td>ASTRI</td><td>SST</td><td>CHEC</td><td>3</td><td>3</td><td>SST_ASTRI_CHEC</td></tr>\n",
       "<tr><td>175</td><td>500.0</td><td>815.0</td><td>45.0</td><td>ASTRI</td><td>SST</td><td>CHEC</td><td>3</td><td>3</td><td>SST_ASTRI_CHEC</td></tr>\n",
       "<tr><td>176</td><td>500.0</td><td>-815.0</td><td>53.0</td><td>ASTRI</td><td>SST</td><td>CHEC</td><td>3</td><td>3</td><td>SST_ASTRI_CHEC</td></tr>\n",
       "<tr><td>177</td><td>-810.0</td><td>655.0</td><td>12.0</td><td>ASTRI</td><td>SST</td><td>CHEC</td><td>3</td><td>3</td><td>SST_ASTRI_CHEC</td></tr>\n",
       "<tr><td>178</td><td>-810.0</td><td>-655.0</td><td>68.0</td><td>ASTRI</td><td>SST</td><td>CHEC</td><td>3</td><td>3</td><td>SST_ASTRI_CHEC</td></tr>\n",
       "<tr><td>179</td><td>810.0</td><td>655.0</td><td>20.0</td><td>ASTRI</td><td>SST</td><td>CHEC</td><td>3</td><td>3</td><td>SST_ASTRI_CHEC</td></tr>\n",
       "<tr><td>180</td><td>810.0</td><td>-655.0</td><td>41.0</td><td>ASTRI</td><td>SST</td><td>CHEC</td><td>3</td><td>3</td><td>SST_ASTRI_CHEC</td></tr>\n",
       "</table></div>"
      ],
      "text/plain": [
       "<Table length=180>\n",
       "tel_id   pos_x     pos_y   ... camera_index optics_index tel_description \n",
       "           m         m     ...                                           \n",
       "int16   float32   float32  ...    int64        int64          str17      \n",
       "------ ---------- -------- ... ------------ ------------ ----------------\n",
       "     1    -20.643  -64.817 ...            0            2   LST_LST_LSTCam\n",
       "     2  79.993996   -0.768 ...            0            2   LST_LST_LSTCam\n",
       "     3    -19.396     65.2 ...            0            2   LST_LST_LSTCam\n",
       "     4   -120.033    1.151 ...            0            2   LST_LST_LSTCam\n",
       "     5     -0.017   -0.001 ...            1            1 MST_MST_FlashCam\n",
       "     6     -1.468 -151.221 ...            1            1 MST_MST_FlashCam\n",
       "     7 -3.1379998 -325.245 ...            1            1 MST_MST_FlashCam\n",
       "     8  1.4339999   151.22 ...            1            1 MST_MST_FlashCam\n",
       "     9  3.1039999  325.243 ...            1            1 MST_MST_FlashCam\n",
       "   ...        ...      ... ...          ...          ...              ...\n",
       "   171      260.0    920.0 ...            3            3   SST_ASTRI_CHEC\n",
       "   172      260.0   -920.0 ...            3            3   SST_ASTRI_CHEC\n",
       "   173     -500.0    815.0 ...            3            3   SST_ASTRI_CHEC\n",
       "   174     -500.0   -815.0 ...            3            3   SST_ASTRI_CHEC\n",
       "   175      500.0    815.0 ...            3            3   SST_ASTRI_CHEC\n",
       "   176      500.0   -815.0 ...            3            3   SST_ASTRI_CHEC\n",
       "   177     -810.0    655.0 ...            3            3   SST_ASTRI_CHEC\n",
       "   178     -810.0   -655.0 ...            3            3   SST_ASTRI_CHEC\n",
       "   179      810.0    655.0 ...            3            3   SST_ASTRI_CHEC\n",
       "   180      810.0   -655.0 ...            3            3   SST_ASTRI_CHEC"
      ]
     },
     "execution_count": 3,
     "metadata": {},
     "output_type": "execute_result"
    }
   ],
   "source": [
    "subarray.to_table()"
   ]
  },
  {
   "cell_type": "code",
   "execution_count": null,
   "metadata": {},
   "outputs": [],
   "source": []
  },
  {
   "cell_type": "markdown",
   "metadata": {},
   "source": [
    "You can also get a table of just the `OpticsDescriptions` (`CameraGeometry` is more complex and can't be stored on a single table row, so each one can be converted to a table separately)"
   ]
  },
  {
   "cell_type": "code",
   "execution_count": 4,
   "metadata": {
    "execution": {
     "iopub.execute_input": "2022-07-04T14:49:09.794513Z",
     "iopub.status.busy": "2022-07-04T14:49:09.793401Z",
     "iopub.status.idle": "2022-07-04T14:49:09.802026Z",
     "shell.execute_reply": "2022-07-04T14:49:09.801488Z"
    }
   },
   "outputs": [
    {
     "data": {
      "text/html": [
       "<div><i>Table length=4</i>\n",
       "<table id=\"table140508297828432\" class=\"table-striped table-bordered table-condensed\">\n",
       "<thead><tr><th>description</th><th>name</th><th>type</th><th>mirror_area</th><th>num_mirrors</th><th>num_mirror_tiles</th><th>equivalent_focal_length</th></tr></thead>\n",
       "<thead><tr><th></th><th></th><th></th><th>m2</th><th></th><th></th><th>m</th></tr></thead>\n",
       "<thead><tr><th>str17</th><th>str5</th><th>str3</th><th>float64</th><th>int64</th><th>int64</th><th>float64</th></tr></thead>\n",
       "<tr><td>MST_MST_NectarCam</td><td>MST</td><td>MST</td><td>106.2413558959961</td><td>1</td><td>86</td><td>16.445049285888672</td></tr>\n",
       "<tr><td>MST_MST_FlashCam</td><td>MST</td><td>MST</td><td>106.2413558959961</td><td>1</td><td>86</td><td>16.445049285888672</td></tr>\n",
       "<tr><td>LST_LST_LSTCam</td><td>LST</td><td>LST</td><td>386.7332458496094</td><td>1</td><td>198</td><td>29.30565071105957</td></tr>\n",
       "<tr><td>SST_ASTRI_CHEC</td><td>ASTRI</td><td>SST</td><td>14.126235008239746</td><td>2</td><td>2</td><td>2.1519100666046143</td></tr>\n",
       "</table></div>"
      ],
      "text/plain": [
       "<Table length=4>\n",
       "   description     name type ... num_mirror_tiles equivalent_focal_length\n",
       "                             ...                             m           \n",
       "      str17        str5 str3 ...      int64               float64        \n",
       "----------------- ----- ---- ... ---------------- -----------------------\n",
       "MST_MST_NectarCam   MST  MST ...               86      16.445049285888672\n",
       " MST_MST_FlashCam   MST  MST ...               86      16.445049285888672\n",
       "   LST_LST_LSTCam   LST  LST ...              198       29.30565071105957\n",
       "   SST_ASTRI_CHEC ASTRI  SST ...                2      2.1519100666046143"
      ]
     },
     "execution_count": 4,
     "metadata": {},
     "output_type": "execute_result"
    }
   ],
   "source": [
    "subarray.to_table(kind='optics')"
   ]
  },
  {
   "cell_type": "markdown",
   "metadata": {},
   "source": [
    "Make a sub-array with only SC-type telescopes:"
   ]
  },
  {
   "cell_type": "code",
   "execution_count": 5,
   "metadata": {
    "execution": {
     "iopub.execute_input": "2022-07-04T14:49:09.806441Z",
     "iopub.status.busy": "2022-07-04T14:49:09.805347Z",
     "iopub.status.idle": "2022-07-04T14:49:09.865293Z",
     "shell.execute_reply": "2022-07-04T14:49:09.864706Z"
    }
   },
   "outputs": [
    {
     "name": "stdout",
     "output_type": "stream",
     "text": [
      "Subarray : SCTels\n",
      "Num Tels : 120\n",
      "Footprint: 4.92 km2\n",
      "\n",
      "     Type      Count    Tel IDs   \n",
      "-------------- ----- -------------\n",
      "SST_ASTRI_CHEC   120 30-99,131-180\n"
     ]
    }
   ],
   "source": [
    "sc_tels =[tel_id for tel_id, tel in subarray.tel.items() if tel.optics.num_mirrors ==  2]\n",
    "newsub = subarray.select_subarray(sc_tels, name=\"SCTels\")\n",
    "newsub.info()"
   ]
  },
  {
   "cell_type": "markdown",
   "metadata": {},
   "source": [
    "can also do this by using `Table.group_by`"
   ]
  },
  {
   "cell_type": "markdown",
   "metadata": {},
   "source": [
    "## Explore some of the details of the telescopes"
   ]
  },
  {
   "cell_type": "code",
   "execution_count": 6,
   "metadata": {
    "execution": {
     "iopub.execute_input": "2022-07-04T14:49:09.869869Z",
     "iopub.status.busy": "2022-07-04T14:49:09.868748Z",
     "iopub.status.idle": "2022-07-04T14:49:09.875189Z",
     "shell.execute_reply": "2022-07-04T14:49:09.874654Z"
    }
   },
   "outputs": [
    {
     "data": {
      "text/plain": [
       "TelescopeDescription(type=LST, name=LST, optics=LST, camera=LSTCam)"
      ]
     },
     "execution_count": 6,
     "metadata": {},
     "output_type": "execute_result"
    }
   ],
   "source": [
    "tel = subarray.tel[1]\n",
    "tel"
   ]
  },
  {
   "cell_type": "code",
   "execution_count": 7,
   "metadata": {
    "execution": {
     "iopub.execute_input": "2022-07-04T14:49:09.879493Z",
     "iopub.status.busy": "2022-07-04T14:49:09.878405Z",
     "iopub.status.idle": "2022-07-04T14:49:09.885591Z",
     "shell.execute_reply": "2022-07-04T14:49:09.885045Z"
    }
   },
   "outputs": [
    {
     "data": {
      "text/latex": [
       "$386.73325 \\; \\mathrm{m^{2}}$"
      ],
      "text/plain": [
       "<Quantity 386.73324585 m2>"
      ]
     },
     "execution_count": 7,
     "metadata": {},
     "output_type": "execute_result"
    }
   ],
   "source": [
    "tel.optics.mirror_area"
   ]
  },
  {
   "cell_type": "code",
   "execution_count": 8,
   "metadata": {
    "execution": {
     "iopub.execute_input": "2022-07-04T14:49:09.889754Z",
     "iopub.status.busy": "2022-07-04T14:49:09.888638Z",
     "iopub.status.idle": "2022-07-04T14:49:09.894898Z",
     "shell.execute_reply": "2022-07-04T14:49:09.894369Z"
    }
   },
   "outputs": [
    {
     "data": {
      "text/plain": [
       "198"
      ]
     },
     "execution_count": 8,
     "metadata": {},
     "output_type": "execute_result"
    }
   ],
   "source": [
    "tel.optics.num_mirror_tiles"
   ]
  },
  {
   "cell_type": "code",
   "execution_count": 9,
   "metadata": {
    "execution": {
     "iopub.execute_input": "2022-07-04T14:49:09.899054Z",
     "iopub.status.busy": "2022-07-04T14:49:09.897969Z",
     "iopub.status.idle": "2022-07-04T14:49:09.904649Z",
     "shell.execute_reply": "2022-07-04T14:49:09.904119Z"
    }
   },
   "outputs": [
    {
     "data": {
      "text/latex": [
       "$29.305651 \\; \\mathrm{m}$"
      ],
      "text/plain": [
       "<Quantity 29.30565071 m>"
      ]
     },
     "execution_count": 9,
     "metadata": {},
     "output_type": "execute_result"
    }
   ],
   "source": [
    "tel.optics.equivalent_focal_length"
   ]
  },
  {
   "cell_type": "code",
   "execution_count": 10,
   "metadata": {
    "execution": {
     "iopub.execute_input": "2022-07-04T14:49:09.908796Z",
     "iopub.status.busy": "2022-07-04T14:49:09.907713Z",
     "iopub.status.idle": "2022-07-04T14:49:09.913863Z",
     "shell.execute_reply": "2022-07-04T14:49:09.913331Z"
    }
   },
   "outputs": [
    {
     "data": {
      "text/plain": [
       "CameraDescription(camera_name=LSTCam, geometry=LSTCam, readout=LSTCam)"
      ]
     },
     "execution_count": 10,
     "metadata": {},
     "output_type": "execute_result"
    }
   ],
   "source": [
    "tel.camera"
   ]
  },
  {
   "cell_type": "code",
   "execution_count": 11,
   "metadata": {
    "execution": {
     "iopub.execute_input": "2022-07-04T14:49:09.918057Z",
     "iopub.status.busy": "2022-07-04T14:49:09.916943Z",
     "iopub.status.idle": "2022-07-04T14:49:09.923772Z",
     "shell.execute_reply": "2022-07-04T14:49:09.923240Z"
    }
   },
   "outputs": [
    {
     "data": {
      "text/latex": [
       "$[0,~-0.037796701,~-0.047245475,~\\dots,~0.67088033,~-0.45356484,~-0.50081024] \\; \\mathrm{m}$"
      ],
      "text/plain": [
       "<Quantity [ 0.        , -0.0377967 , -0.04724547, ...,  0.67088033,\n",
       "           -0.45356484, -0.50081024] m>"
      ]
     },
     "execution_count": 11,
     "metadata": {},
     "output_type": "execute_result"
    }
   ],
   "source": [
    "tel.camera.geometry.pix_x"
   ]
  },
  {
   "cell_type": "code",
   "execution_count": 12,
   "metadata": {
    "execution": {
     "iopub.execute_input": "2022-07-04T14:49:09.927868Z",
     "iopub.status.busy": "2022-07-04T14:49:09.926583Z",
     "iopub.status.idle": "2022-07-04T14:49:11.054248Z",
     "shell.execute_reply": "2022-07-04T14:49:11.053617Z"
    }
   },
   "outputs": [
    {
     "data": {
      "text/plain": [
       "<ctapipe.visualization.mpl_camera.CameraDisplay at 0x7fcaa32e1880>"
      ]
     },
     "execution_count": 12,
     "metadata": {},
     "output_type": "execute_result"
    },
    {
     "data": {
      "image/png": "[encoded data removed]",
      "text/plain": [
       "<Figure size 432x288 with 1 Axes>"
      ]
     },
     "metadata": {
      "needs_background": "light"
     },
     "output_type": "display_data"
    }
   ],
   "source": [
    "%matplotlib inline\n",
    "from ctapipe.visualization import CameraDisplay\n",
    "CameraDisplay(tel.camera.geometry)"
   ]
  },
  {
   "cell_type": "code",
   "execution_count": 13,
   "metadata": {
    "execution": {
     "iopub.execute_input": "2022-07-04T14:49:11.058432Z",
     "iopub.status.busy": "2022-07-04T14:49:11.058048Z",
     "iopub.status.idle": "2022-07-04T14:49:11.568875Z",
     "shell.execute_reply": "2022-07-04T14:49:11.568271Z"
    }
   },
   "outputs": [
    {
     "data": {
      "text/plain": [
       "<ctapipe.visualization.mpl_camera.CameraDisplay at 0x7fcaa11e3c40>"
      ]
     },
     "execution_count": 13,
     "metadata": {},
     "output_type": "execute_result"
    },
    {
     "data": {
      "image/png": "[encoded data removed]",
      "text/plain": [
       "<Figure size 432x288 with 1 Axes>"
      ]
     },
     "metadata": {
      "needs_background": "light"
     },
     "output_type": "display_data"
    }
   ],
   "source": [
    "CameraDisplay(subarray.tel[98].camera.geometry)"
   ]
  },
  {
   "cell_type": "markdown",
   "metadata": {},
   "source": [
    "## Plot the subarray\n",
    "\n",
    "We'll make a subarray by telescope type and plot each separately, so they appear in different colors.  We also calculate the radius using the mirror area (and exagerate it a bit).\n",
    "\n",
    "This is just for debugging and info, for any \"real\" use, a `visualization.ArrayDisplay` should be used"
   ]
  },
  {
   "cell_type": "code",
   "execution_count": 14,
   "metadata": {
    "execution": {
     "iopub.execute_input": "2022-07-04T14:49:11.573844Z",
     "iopub.status.busy": "2022-07-04T14:49:11.572696Z",
     "iopub.status.idle": "2022-07-04T14:49:12.377164Z",
     "shell.execute_reply": "2022-07-04T14:49:12.376497Z"
    }
   },
   "outputs": [
    {
     "data": {
      "image/png": "[encoded data removed]",
      "text/plain": [
       "<Figure size 576x576 with 1 Axes>"
      ]
     },
     "metadata": {
      "needs_background": "light"
     },
     "output_type": "display_data"
    }
   ],
   "source": [
    "subarray.peek()"
   ]
  },
  {
   "cell_type": "code",
   "execution_count": 15,
   "metadata": {
    "execution": {
     "iopub.execute_input": "2022-07-04T14:49:12.382208Z",
     "iopub.status.busy": "2022-07-04T14:49:12.381049Z",
     "iopub.status.idle": "2022-07-04T14:49:12.388764Z",
     "shell.execute_reply": "2022-07-04T14:49:12.388239Z"
    }
   },
   "outputs": [
    {
     "data": {
      "text/latex": [
       "$4.9234632 \\; \\mathrm{km^{2}}$"
      ],
      "text/plain": [
       "<Quantity 4.92346317 km2>"
      ]
     },
     "execution_count": 15,
     "metadata": {},
     "output_type": "execute_result"
    }
   ],
   "source": [
    "subarray.footprint"
   ]
  },
  {
   "cell_type": "markdown",
   "metadata": {},
   "source": [
    "## Get info about the subarray in general"
   ]
  },
  {
   "cell_type": "code",
   "execution_count": 16,
   "metadata": {
    "execution": {
     "iopub.execute_input": "2022-07-04T14:49:12.393227Z",
     "iopub.status.busy": "2022-07-04T14:49:12.392113Z",
     "iopub.status.idle": "2022-07-04T14:49:12.398630Z",
     "shell.execute_reply": "2022-07-04T14:49:12.398118Z"
    }
   },
   "outputs": [
    {
     "data": {
      "text/plain": [
       "[TelescopeDescription(type=MST, name=MST, optics=MST, camera=NectarCam),\n",
       " TelescopeDescription(type=MST, name=MST, optics=MST, camera=FlashCam),\n",
       " TelescopeDescription(type=LST, name=LST, optics=LST, camera=LSTCam),\n",
       " TelescopeDescription(type=SST, name=ASTRI, optics=ASTRI, camera=CHEC)]"
      ]
     },
     "execution_count": 16,
     "metadata": {},
     "output_type": "execute_result"
    }
   ],
   "source": [
    "subarray.telescope_types"
   ]
  },
  {
   "cell_type": "code",
   "execution_count": 17,
   "metadata": {
    "execution": {
     "iopub.execute_input": "2022-07-04T14:49:12.402850Z",
     "iopub.status.busy": "2022-07-04T14:49:12.401756Z",
     "iopub.status.idle": "2022-07-04T14:49:12.408053Z",
     "shell.execute_reply": "2022-07-04T14:49:12.407543Z"
    }
   },
   "outputs": [
    {
     "data": {
      "text/plain": [
       "[CameraDescription(camera_name=LSTCam, geometry=LSTCam, readout=LSTCam),\n",
       " CameraDescription(camera_name=FlashCam, geometry=FlashCam, readout=FlashCam),\n",
       " CameraDescription(camera_name=NectarCam, geometry=NectarCam, readout=NectarCam),\n",
       " CameraDescription(camera_name=CHEC, geometry=CHEC, readout=CHEC)]"
      ]
     },
     "execution_count": 17,
     "metadata": {},
     "output_type": "execute_result"
    }
   ],
   "source": [
    "subarray.camera_types"
   ]
  },
  {
   "cell_type": "code",
   "execution_count": 18,
   "metadata": {
    "execution": {
     "iopub.execute_input": "2022-07-04T14:49:12.412228Z",
     "iopub.status.busy": "2022-07-04T14:49:12.411140Z",
     "iopub.status.idle": "2022-07-04T14:49:12.429173Z",
     "shell.execute_reply": "2022-07-04T14:49:12.428561Z"
    }
   },
   "outputs": [
    {
     "data": {
      "text/plain": [
       "[OpticsDescription(name=LST, equivalent_focal_length=29.31 m, num_mirrors=1, mirror_area=386.73 m2),\n",
       " OpticsDescription(name=ASTRI, equivalent_focal_length=2.15 m, num_mirrors=2, mirror_area=14.13 m2),\n",
       " OpticsDescription(name=MST, equivalent_focal_length=16.45 m, num_mirrors=1, mirror_area=106.24 m2)]"
      ]
     },
     "execution_count": 18,
     "metadata": {},
     "output_type": "execute_result"
    }
   ],
   "source": [
    "subarray.optics_types"
   ]
  },
  {
   "cell_type": "code",
   "execution_count": 19,
   "metadata": {
    "execution": {
     "iopub.execute_input": "2022-07-04T14:49:12.431840Z",
     "iopub.status.busy": "2022-07-04T14:49:12.431510Z",
     "iopub.status.idle": "2022-07-04T14:49:12.457371Z",
     "shell.execute_reply": "2022-07-04T14:49:12.456049Z"
    }
   },
   "outputs": [
    {
     "data": {
      "text/latex": [
       "[$115^\\circ37{}^\\prime48.53728809{}^{\\prime\\prime}$\n",
       " $23^\\circ16{}^\\prime48.71368376{}^{\\prime\\prime}$\n",
       " $94^\\circ46{}^\\prime57.06512996{}^{\\prime\\prime}$\n",
       " $160^\\circ38{}^\\prime17.99179741{}^{\\prime\\prime}$\n",
       " $90^\\circ02{}^\\prime22.86896225{}^{\\prime\\prime}$\n",
       " $101^\\circ37{}^\\prime15.59471603{}^{\\prime\\prime}$\n",
       " $101^\\circ46{}^\\prime37.67470941{}^{\\prime\\prime}$\n",
       " $78^\\circ18{}^\\prime27.84261148{}^{\\prime\\prime}$\n",
       " $78^\\circ10{}^\\prime28.36657617{}^{\\prime\\prime}$\n",
       " $45^\\circ27{}^\\prime35.97543537{}^{\\prime\\prime}$\n",
       " $16^\\circ59{}^\\prime24.86749269{}^{\\prime\\prime}$\n",
       " $39^\\circ58{}^\\prime36.5305221{}^{\\prime\\prime}$\n",
       " $69^\\circ06{}^\\prime00.41200774{}^{\\prime\\prime}$\n",
       " $110^\\circ55{}^\\prime43.84261342{}^{\\prime\\prime}$\n",
       " $139^\\circ53{}^\\prime52.10746639{}^{\\prime\\prime}$\n",
       " $161^\\circ53{}^\\prime57.44575812{}^{\\prime\\prime}$\n",
       " $134^\\circ14{}^\\prime04.61794311{}^{\\prime\\prime}$\n",
       " $45^\\circ19{}^\\prime31.8677554{}^{\\prime\\prime}$\n",
       " $15^\\circ41{}^\\prime09.62278432{}^{\\prime\\prime}$\n",
       " $12^\\circ23{}^\\prime30.02446134{}^{\\prime\\prime}$\n",
       " $39^\\circ16{}^\\prime01.93418447{}^{\\prime\\prime}$\n",
       " $69^\\circ02{}^\\prime23.91555142{}^{\\prime\\prime}$\n",
       " $111^\\circ01{}^\\prime02.98397763{}^{\\prime\\prime}$\n",
       " $140^\\circ35{}^\\prime18.81775813{}^{\\prime\\prime}$\n",
       " $166^\\circ57{}^\\prime33.12823197{}^{\\prime\\prime}$\n",
       " $163^\\circ35{}^\\prime33.54325283{}^{\\prime\\prime}$\n",
       " $134^\\circ29{}^\\prime00.15614806{}^{\\prime\\prime}$\n",
       " $11^\\circ55{}^\\prime58.302677{}^{\\prime\\prime}$\n",
       " $167^\\circ37{}^\\prime52.38371474{}^{\\prime\\prime}$\n",
       " $26^\\circ01{}^\\prime54.63781737{}^{\\prime\\prime}$\n",
       " $49^\\circ42{}^\\prime53.3573094{}^{\\prime\\prime}$\n",
       " $130^\\circ15{}^\\prime08.98906098{}^{\\prime\\prime}$\n",
       " $153^\\circ27{}^\\prime53.98923833{}^{\\prime\\prime}$\n",
       " $56^\\circ58{}^\\prime06.54760364{}^{\\prime\\prime}$\n",
       " $80^\\circ40{}^\\prime58.98009562{}^{\\prime\\prime}$\n",
       " $99^\\circ20{}^\\prime36.68467668{}^{\\prime\\prime}$\n",
       " $122^\\circ54{}^\\prime22.08156543{}^{\\prime\\prime}$\n",
       " $78^\\circ08{}^\\prime42.65380699{}^{\\prime\\prime}$\n",
       " $101^\\circ49{}^\\prime26.16909516{}^{\\prime\\prime}$\n",
       " $34^\\circ01{}^\\prime48.4871336{}^{\\prime\\prime}$\n",
       " $57^\\circ46{}^\\prime41.25947597{}^{\\prime\\prime}$\n",
       " $122^\\circ15{}^\\prime35.5320416{}^{\\prime\\prime}$\n",
       " $145^\\circ39{}^\\prime14.42191405{}^{\\prime\\prime}$\n",
       " $1^\\circ14{}^\\prime54.5162229{}^{\\prime\\prime}$\n",
       " $24^\\circ26{}^\\prime06.70955766{}^{\\prime\\prime}$\n",
       " $155^\\circ24{}^\\prime16.53048746{}^{\\prime\\prime}$\n",
       " $176^\\circ30{}^\\prime58.85678108{}^{\\prime\\prime}$\n",
       " $78^\\circ08{}^\\prime35.43447641{}^{\\prime\\prime}$\n",
       " $101^\\circ49{}^\\prime13.04461153{}^{\\prime\\prime}$\n",
       " $15^\\circ25{}^\\prime15.9893754{}^{\\prime\\prime}$\n",
       " $39^\\circ07{}^\\prime10.57205245{}^{\\prime\\prime}$\n",
       " $140^\\circ50{}^\\prime37.19773001{}^{\\prime\\prime}$\n",
       " $164^\\circ04{}^\\prime49.92718766{}^{\\prime\\prime}$\n",
       " $45^\\circ17{}^\\prime39.84001018{}^{\\prime\\prime}$\n",
       " $69^\\circ00{}^\\prime41.87664707{}^{\\prime\\prime}$\n",
       " $111^\\circ01{}^\\prime39.52843975{}^{\\prime\\prime}$\n",
       " $134^\\circ31{}^\\prime54.15211982{}^{\\prime\\prime}$\n",
       " $11^\\circ51{}^\\prime48.04299327{}^{\\prime\\prime}$\n",
       " $167^\\circ57{}^\\prime00.7607586{}^{\\prime\\prime}$\n",
       " $62^\\circ40{}^\\prime06.90027025{}^{\\prime\\prime}$\n",
       " $86^\\circ22{}^\\prime57.30949883{}^{\\prime\\prime}$\n",
       " $93^\\circ37{}^\\prime39.95895171{}^{\\prime\\prime}$\n",
       " $117^\\circ14{}^\\prime49.7522144{}^{\\prime\\prime}$\n",
       " $78^\\circ08{}^\\prime46.65029204{}^{\\prime\\prime}$\n",
       " $101^\\circ49{}^\\prime21.94647892{}^{\\prime\\prime}$\n",
       " $28^\\circ49{}^\\prime16.21053425{}^{\\prime\\prime}$\n",
       " $52^\\circ34{}^\\prime56.22025098{}^{\\prime\\prime}$\n",
       " $127^\\circ28{}^\\prime14.89982613{}^{\\prime\\prime}$\n",
       " $150^\\circ53{}^\\prime43.36851833{}^{\\prime\\prime}$\n",
       " $2^\\circ37{}^\\prime25.28096743{}^{\\prime\\prime}$\n",
       " $26^\\circ19{}^\\prime10.19296874{}^{\\prime\\prime}$\n",
       " $153^\\circ38{}^\\prime45.55173649{}^{\\prime\\prime}$\n",
       " $176^\\circ17{}^\\prime30.67883187{}^{\\prime\\prime}$\n",
       " $15^\\circ25{}^\\prime49.43804438{}^{\\prime\\prime}$\n",
       " $39^\\circ09{}^\\prime24.17330046{}^{\\prime\\prime}$\n",
       " $140^\\circ51{}^\\prime45.78771005{}^{\\prime\\prime}$\n",
       " $164^\\circ14{}^\\prime51.16830131{}^{\\prime\\prime}$\n",
       " $52^\\circ19{}^\\prime45.41515578{}^{\\prime\\prime}$\n",
       " $76^\\circ00{}^\\prime54.35432629{}^{\\prime\\prime}$\n",
       " $104^\\circ00{}^\\prime40.3191603{}^{\\prime\\prime}$\n",
       " $127^\\circ35{}^\\prime18.49132396{}^{\\prime\\prime}$\n",
       " $38^\\circ28{}^\\prime24.20830686{}^{\\prime\\prime}$\n",
       " $62^\\circ09{}^\\prime24.90488478{}^{\\prime\\prime}$\n",
       " $117^\\circ52{}^\\prime38.73247866{}^{\\prime\\prime}$\n",
       " $141^\\circ23{}^\\prime18.86339205{}^{\\prime\\prime}$\n",
       " $11^\\circ51{}^\\prime40.55787668{}^{\\prime\\prime}$\n",
       " $168^\\circ03{}^\\prime13.67455894{}^{\\prime\\prime}$\n",
       " $66^\\circ00{}^\\prime25.50011034{}^{\\prime\\prime}$\n",
       " $89^\\circ41{}^\\prime49.40711649{}^{\\prime\\prime}$\n",
       " $90^\\circ14{}^\\prime45.66080857{}^{\\prime\\prime}$\n",
       " $113^\\circ56{}^\\prime46.48499003{}^{\\prime\\prime}$\n",
       " $25^\\circ52{}^\\prime55.46889846{}^{\\prime\\prime}$\n",
       " $49^\\circ36{}^\\prime25.53139002{}^{\\prime\\prime}$\n",
       " $130^\\circ25{}^\\prime28.16246205{}^{\\prime\\prime}$\n",
       " $153^\\circ52{}^\\prime16.80179427{}^{\\prime\\prime}$\n",
       " $5^\\circ18{}^\\prime28.02210585{}^{\\prime\\prime}$\n",
       " $29^\\circ01{}^\\prime06.88086914{}^{\\prime\\prime}$\n",
       " $150^\\circ59{}^\\prime18.82490611{}^{\\prime\\prime}$\n",
       " $174^\\circ17{}^\\prime23.56686487{}^{\\prime\\prime}$\n",
       " $90^\\circ02{}^\\prime22.86896225{}^{\\prime\\prime}$\n",
       " $101^\\circ37{}^\\prime15.59471603{}^{\\prime\\prime}$\n",
       " $101^\\circ46{}^\\prime37.67470941{}^{\\prime\\prime}$\n",
       " $78^\\circ18{}^\\prime27.84261148{}^{\\prime\\prime}$\n",
       " $78^\\circ10{}^\\prime28.36657617{}^{\\prime\\prime}$\n",
       " $45^\\circ27{}^\\prime35.97543537{}^{\\prime\\prime}$\n",
       " $16^\\circ59{}^\\prime24.86749269{}^{\\prime\\prime}$\n",
       " $39^\\circ58{}^\\prime36.5305221{}^{\\prime\\prime}$\n",
       " $69^\\circ06{}^\\prime00.41200774{}^{\\prime\\prime}$\n",
       " $110^\\circ55{}^\\prime43.84261342{}^{\\prime\\prime}$\n",
       " $139^\\circ53{}^\\prime52.10746639{}^{\\prime\\prime}$\n",
       " $161^\\circ53{}^\\prime57.44575812{}^{\\prime\\prime}$\n",
       " $134^\\circ14{}^\\prime04.61794311{}^{\\prime\\prime}$\n",
       " $45^\\circ19{}^\\prime31.8677554{}^{\\prime\\prime}$\n",
       " $15^\\circ41{}^\\prime09.62278432{}^{\\prime\\prime}$\n",
       " $12^\\circ23{}^\\prime30.02446134{}^{\\prime\\prime}$\n",
       " $39^\\circ16{}^\\prime01.93418447{}^{\\prime\\prime}$\n",
       " $69^\\circ02{}^\\prime23.91555142{}^{\\prime\\prime}$\n",
       " $111^\\circ01{}^\\prime02.98397763{}^{\\prime\\prime}$\n",
       " $140^\\circ35{}^\\prime18.81775813{}^{\\prime\\prime}$\n",
       " $166^\\circ57{}^\\prime33.12823197{}^{\\prime\\prime}$\n",
       " $163^\\circ35{}^\\prime33.54325283{}^{\\prime\\prime}$\n",
       " $134^\\circ29{}^\\prime00.15614806{}^{\\prime\\prime}$\n",
       " $11^\\circ55{}^\\prime58.302677{}^{\\prime\\prime}$\n",
       " $167^\\circ37{}^\\prime52.38371474{}^{\\prime\\prime}$\n",
       " $136^\\circ57{}^\\prime45.95755748{}^{\\prime\\prime}$\n",
       " $135^\\circ07{}^\\prime08.42537213{}^{\\prime\\prime}$\n",
       " $144^\\circ03{}^\\prime07.34583759{}^{\\prime\\prime}$\n",
       " $136^\\circ57{}^\\prime45.95755748{}^{\\prime\\prime}$\n",
       " $135^\\circ07{}^\\prime08.42537213{}^{\\prime\\prime}$\n",
       " $144^\\circ03{}^\\prime07.34583759{}^{\\prime\\prime}$\n",
       " $12^\\circ21{}^\\prime10.63672941{}^{\\prime\\prime}$\n",
       " $11^\\circ49{}^\\prime31.42733953{}^{\\prime\\prime}$\n",
       " $14^\\circ26{}^\\prime28.56626411{}^{\\prime\\prime}$\n",
       " $117^\\circ32{}^\\prime31.4678604{}^{\\prime\\prime}$\n",
       " $16^\\circ04{}^\\prime14.73718876{}^{\\prime\\prime}$\n",
       " $62^\\circ57{}^\\prime07.77000849{}^{\\prime\\prime}$\n",
       " $78^\\circ42{}^\\prime38.29587693{}^{\\prime\\prime}$\n",
       " $101^\\circ14{}^\\prime22.04343375{}^{\\prime\\prime}$\n",
       " $118^\\circ48{}^\\prime09.35939992{}^{\\prime\\prime}$\n",
       " $141^\\circ08{}^\\prime27.59692398{}^{\\prime\\prime}$\n",
       " $38^\\circ36{}^\\prime57.36221721{}^{\\prime\\prime}$\n",
       " $61^\\circ14{}^\\prime04.57040488{}^{\\prime\\prime}$\n",
       " $104^\\circ39{}^\\prime08.29781247{}^{\\prime\\prime}$\n",
       " $127^\\circ08{}^\\prime29.11683192{}^{\\prime\\prime}$\n",
       " $52^\\circ44{}^\\prime50.28926073{}^{\\prime\\prime}$\n",
       " $75^\\circ22{}^\\prime30.28675274{}^{\\prime\\prime}$\n",
       " $154^\\circ17{}^\\prime04.33890125{}^{\\prime\\prime}$\n",
       " $175^\\circ51{}^\\prime30.60324792{}^{\\prime\\prime}$\n",
       " $3^\\circ07{}^\\prime40.20738999{}^{\\prime\\prime}$\n",
       " $25^\\circ40{}^\\prime46.72611271{}^{\\prime\\prime}$\n",
       " $155^\\circ31{}^\\prime05.76852749{}^{\\prime\\prime}$\n",
       " $177^\\circ07{}^\\prime48.37033358{}^{\\prime\\prime}$\n",
       " $1^\\circ51{}^\\prime33.76315166{}^{\\prime\\prime}$\n",
       " $24^\\circ28{}^\\prime05.09034799{}^{\\prime\\prime}$\n",
       " $168^\\circ33{}^\\prime14.25941047{}^{\\prime\\prime}$\n",
       " $11^\\circ18{}^\\prime49.45565605{}^{\\prime\\prime}$\n",
       " $89^\\circ48{}^\\prime50.06947064{}^{\\prime\\prime}$\n",
       " $112^\\circ43{}^\\prime37.64931806{}^{\\prime\\prime}$\n",
       " $67^\\circ11{}^\\prime56.82656885{}^{\\prime\\prime}$\n",
       " $90^\\circ11{}^\\prime11.75785172{}^{\\prime\\prime}$\n",
       " $125^\\circ45{}^\\prime46.14049369{}^{\\prime\\prime}$\n",
       " $148^\\circ07{}^\\prime09.66819251{}^{\\prime\\prime}$\n",
       " $31^\\circ38{}^\\prime07.22086606{}^{\\prime\\prime}$\n",
       " $54^\\circ16{}^\\prime21.09751607{}^{\\prime\\prime}$\n",
       " $143^\\circ36{}^\\prime39.3424254{}^{\\prime\\prime}$\n",
       " $165^\\circ48{}^\\prime19.81864969{}^{\\prime\\prime}$\n",
       " $13^\\circ45{}^\\prime49.96366223{}^{\\prime\\prime}$\n",
       " $36^\\circ22{}^\\prime59.16585{}^{\\prime\\prime}$\n",
       " $94^\\circ28{}^\\prime09.44371894{}^{\\prime\\prime}$\n",
       " $117^\\circ00{}^\\prime03.42456501{}^{\\prime\\prime}$\n",
       " $62^\\circ56{}^\\prime30.19964872{}^{\\prime\\prime}$\n",
       " $85^\\circ32{}^\\prime22.19145376{}^{\\prime\\prime}$\n",
       " $110^\\circ12{}^\\prime59.25351694{}^{\\prime\\prime}$\n",
       " $132^\\circ40{}^\\prime35.18429669{}^{\\prime\\prime}$\n",
       " $47^\\circ13{}^\\prime11.25823017{}^{\\prime\\prime}$\n",
       " $69^\\circ48{}^\\prime47.82814446{}^{\\prime\\prime}$\n",
       " $129^\\circ43{}^\\prime35.22132347{}^{\\prime\\prime}$\n",
       " $152^\\circ07{}^\\prime05.15361244{}^{\\prime\\prime}$\n",
       " $27^\\circ40{}^\\prime14.4110196{}^{\\prime\\prime}$\n",
       " $50^\\circ18{}^\\prime25.99569671{}^{\\prime\\prime}$]"
      ],
      "text/plain": [
       "<Angle [115.63014925,  23.28019825,  94.78251809, 160.63833105,\n",
       "         90.03968582, 101.62099853, 101.77713186,  78.30773406,\n",
       "         78.17454627,  45.45999318,  16.99024097,  39.97681403,\n",
       "         69.10011445, 110.92884517, 139.89780763, 161.89929049,\n",
       "        134.2346161 ,  45.32551882,  15.68600633,  12.39167346,\n",
       "         39.26720394,  69.03997654, 111.01749555, 140.58856049,\n",
       "        166.95920229, 163.5926509 , 134.48337671,  11.93286185,\n",
       "        167.6312177 ,  26.03184384,  49.71482147, 130.25249696,\n",
       "        153.46499701,  56.96848545,  80.68305003,  99.34352352,\n",
       "        122.90613377,  78.14518161, 101.82393586,  34.03013531,\n",
       "         57.77812763, 122.25987001, 145.65400609,   1.24847673,\n",
       "         24.4351971 , 155.4045918 , 176.51634911,  78.14317624,\n",
       "        101.82029017,  15.42110816,  39.11960335, 140.84366604,\n",
       "        164.08053533,  45.2944    ,  69.0116324 , 111.02764679,\n",
       "        134.53170892,  11.86334528, 167.95021132,  62.66858341,\n",
       "         86.38258597,  93.62776638, 117.24715339,  78.14629175,\n",
       "        101.82276291,  28.82116959,  52.5822834 , 127.47080551,\n",
       "        150.89538014,   2.62368916,  26.31949805, 153.64598659,\n",
       "        176.29185523,  15.43039946,  39.15671481, 140.86271881,\n",
       "        164.24754675,  52.32928199,  76.01509842, 104.01119977,\n",
       "        127.58846981,  38.4733912 ,  62.15691802, 117.87742569,\n",
       "        141.38857316,  11.86126608, 168.05379849,  66.00708336,\n",
       "         89.69705753,  90.24601689, 113.94624583,  25.88207469,\n",
       "         49.60709205, 130.42448957, 153.87133383,   5.30778392,\n",
       "         29.01857802, 150.98856247, 174.28987968,  90.03968582,\n",
       "        101.62099853, 101.77713186,  78.30773406,  78.17454627,\n",
       "         45.45999318,  16.99024097,  39.97681403,  69.10011445,\n",
       "        110.92884517, 139.89780763, 161.89929049, 134.2346161 ,\n",
       "         45.32551882,  15.68600633,  12.39167346,  39.26720394,\n",
       "         69.03997654, 111.01749555, 140.58856049, 166.95920229,\n",
       "        163.5926509 , 134.48337671,  11.93286185, 167.6312177 ,\n",
       "        136.96276599, 135.11900705, 144.05204051, 136.96276599,\n",
       "        135.11900705, 144.05204051,  12.35295465,  11.82539648,\n",
       "         14.44126841, 117.54207441,  16.07076033,  62.95215834,\n",
       "         78.71063774, 101.23945651, 118.80259983, 141.14099915,\n",
       "         38.61593395,  61.23460289, 104.65230495, 127.14142134,\n",
       "         52.74730257,  75.37507965, 154.28453858, 175.8585009 ,\n",
       "          3.12783539,  25.67964614, 155.51826904, 177.13010287,\n",
       "          1.85937865,  24.46808065, 168.55396095,  11.31373768,\n",
       "         89.81390819, 112.72712481,  67.19911849,  90.1865994 ,\n",
       "        125.7628168 , 148.11935228,  31.63533913,  54.27252709,\n",
       "        143.61092845, 165.80550518,  13.7638788 ,  36.38310163,\n",
       "         94.46928992, 117.00095127,  62.94172212,  85.53949763,\n",
       "        110.21645931, 132.67644008,  47.21979395,  69.8132856 ,\n",
       "        129.72645037, 152.11809823,  27.67066973,  50.30722103] deg>"
      ]
     },
     "execution_count": 19,
     "metadata": {},
     "output_type": "execute_result"
    }
   ],
   "source": [
    "from astropy.coordinates import SkyCoord\n",
    "from ctapipe.coordinates import GroundFrame\n",
    "center = SkyCoord(\"10.0 m\", \"2.0 m\", \"0.0 m\", frame='groundframe')\n",
    "coords = subarray.tel_coords  # a flat list of coordinates by tel_index\n",
    "coords.separation(center)"
   ]
  },
  {
   "cell_type": "markdown",
   "metadata": {},
   "source": [
    "## Telescope IDs vs Indices\n",
    "\n",
    "Note that `subarray.tel` is a dict mapped by `tel_id` (the indentifying number of a telescope).  It is  possible to have telescope IDs that do not start at 0, are not contiguouous (e.g. if a subarray is selected).  Some functions and properties like `tel_coords` are numpy arrays (not dicts) so they are not mapped to the telescope ID, but rather the *index* within this SubarrayDescription. To convert between the two concepts you can do:"
   ]
  },
  {
   "cell_type": "code",
   "execution_count": 20,
   "metadata": {
    "execution": {
     "iopub.execute_input": "2022-07-04T14:49:12.460579Z",
     "iopub.status.busy": "2022-07-04T14:49:12.460058Z",
     "iopub.status.idle": "2022-07-04T14:49:12.466614Z",
     "shell.execute_reply": "2022-07-04T14:49:12.465778Z"
    }
   },
   "outputs": [
    {
     "data": {
      "text/plain": [
       "array([ 0,  4, 22])"
      ]
     },
     "execution_count": 20,
     "metadata": {},
     "output_type": "execute_result"
    }
   ],
   "source": [
    "subarray.tel_ids_to_indices([1,5,23])"
   ]
  },
  {
   "cell_type": "markdown",
   "metadata": {},
   "source": [
    "or you can get the indexing array directly in numpy or dict form:"
   ]
  },
  {
   "cell_type": "code",
   "execution_count": 21,
   "metadata": {
    "execution": {
     "iopub.execute_input": "2022-07-04T14:49:12.469758Z",
     "iopub.status.busy": "2022-07-04T14:49:12.469255Z",
     "iopub.status.idle": "2022-07-04T14:49:12.475505Z",
     "shell.execute_reply": "2022-07-04T14:49:12.474923Z"
    }
   },
   "outputs": [
    {
     "data": {
      "text/plain": [
       "array([ -1,   0,   1,   2,   3,   4,   5,   6,   7,   8,   9,  10,  11,\n",
       "        12,  13,  14,  15,  16,  17,  18,  19,  20,  21,  22,  23,  24,\n",
       "        25,  26,  27,  28,  29,  30,  31,  32,  33,  34,  35,  36,  37,\n",
       "        38,  39,  40,  41,  42,  43,  44,  45,  46,  47,  48,  49,  50,\n",
       "        51,  52,  53,  54,  55,  56,  57,  58,  59,  60,  61,  62,  63,\n",
       "        64,  65,  66,  67,  68,  69,  70,  71,  72,  73,  74,  75,  76,\n",
       "        77,  78,  79,  80,  81,  82,  83,  84,  85,  86,  87,  88,  89,\n",
       "        90,  91,  92,  93,  94,  95,  96,  97,  98,  99, 100, 101, 102,\n",
       "       103, 104, 105, 106, 107, 108, 109, 110, 111, 112, 113, 114, 115,\n",
       "       116, 117, 118, 119, 120, 121, 122, 123, 124, 125, 126, 127, 128,\n",
       "       129, 130, 131, 132, 133, 134, 135, 136, 137, 138, 139, 140, 141,\n",
       "       142, 143, 144, 145, 146, 147, 148, 149, 150, 151, 152, 153, 154,\n",
       "       155, 156, 157, 158, 159, 160, 161, 162, 163, 164, 165, 166, 167,\n",
       "       168, 169, 170, 171, 172, 173, 174, 175, 176, 177, 178, 179])"
      ]
     },
     "execution_count": 21,
     "metadata": {},
     "output_type": "execute_result"
    }
   ],
   "source": [
    "subarray.tel_index_array"
   ]
  },
  {
   "cell_type": "code",
   "execution_count": 22,
   "metadata": {
    "execution": {
     "iopub.execute_input": "2022-07-04T14:49:12.478487Z",
     "iopub.status.busy": "2022-07-04T14:49:12.478287Z",
     "iopub.status.idle": "2022-07-04T14:49:12.484128Z",
     "shell.execute_reply": "2022-07-04T14:49:12.483581Z"
    }
   },
   "outputs": [
    {
     "data": {
      "text/plain": [
       "array([ 0,  4, 22])"
      ]
     },
     "execution_count": 22,
     "metadata": {},
     "output_type": "execute_result"
    }
   ],
   "source": [
    "subarray.tel_index_array[[1,5,23]]"
   ]
  },
  {
   "cell_type": "code",
   "execution_count": 23,
   "metadata": {
    "execution": {
     "iopub.execute_input": "2022-07-04T14:49:12.486768Z",
     "iopub.status.busy": "2022-07-04T14:49:12.486573Z",
     "iopub.status.idle": "2022-07-04T14:49:12.495866Z",
     "shell.execute_reply": "2022-07-04T14:49:12.495347Z"
    }
   },
   "outputs": [
    {
     "data": {
      "text/plain": [
       "0"
      ]
     },
     "execution_count": 23,
     "metadata": {},
     "output_type": "execute_result"
    }
   ],
   "source": [
    "subarray.tel_indices[1]  # this is a dict of tel_id -> tel_index, so we can only do one at once"
   ]
  },
  {
   "cell_type": "code",
   "execution_count": 24,
   "metadata": {
    "execution": {
     "iopub.execute_input": "2022-07-04T14:49:12.498971Z",
     "iopub.status.busy": "2022-07-04T14:49:12.498485Z",
     "iopub.status.idle": "2022-07-04T14:49:12.505340Z",
     "shell.execute_reply": "2022-07-04T14:49:12.504665Z"
    }
   },
   "outputs": [
    {
     "data": {
      "text/plain": [
       "[100,\n",
       " 101,\n",
       " 102,\n",
       " 103,\n",
       " 104,\n",
       " 105,\n",
       " 106,\n",
       " 107,\n",
       " 108,\n",
       " 109,\n",
       " 110,\n",
       " 111,\n",
       " 112,\n",
       " 113,\n",
       " 114,\n",
       " 115,\n",
       " 116,\n",
       " 117,\n",
       " 118,\n",
       " 119,\n",
       " 120,\n",
       " 121,\n",
       " 122,\n",
       " 123,\n",
       " 124,\n",
       " 128,\n",
       " 129,\n",
       " 130]"
      ]
     },
     "execution_count": 24,
     "metadata": {},
     "output_type": "execute_result"
    }
   ],
   "source": [
    "ids = subarray.get_tel_ids_for_type(subarray.telescope_types[0])\n",
    "ids"
   ]
  },
  {
   "cell_type": "code",
   "execution_count": 25,
   "metadata": {
    "execution": {
     "iopub.execute_input": "2022-07-04T14:49:12.508561Z",
     "iopub.status.busy": "2022-07-04T14:49:12.507949Z",
     "iopub.status.idle": "2022-07-04T14:49:12.520875Z",
     "shell.execute_reply": "2022-07-04T14:49:12.514188Z"
    }
   },
   "outputs": [
    {
     "data": {
      "text/plain": [
       "array([ 99, 100, 101, 102, 103, 104, 105, 106, 107, 108, 109, 110, 111,\n",
       "       112, 113, 114, 115, 116, 117, 118, 119, 120, 121, 122, 123, 127,\n",
       "       128, 129])"
      ]
     },
     "execution_count": 25,
     "metadata": {},
     "output_type": "execute_result"
    }
   ],
   "source": [
    "idx = subarray.tel_ids_to_indices(ids)\n",
    "idx"
   ]
  },
  {
   "cell_type": "code",
   "execution_count": 26,
   "metadata": {
    "execution": {
     "iopub.execute_input": "2022-07-04T14:49:12.526235Z",
     "iopub.status.busy": "2022-07-04T14:49:12.525569Z",
     "iopub.status.idle": "2022-07-04T14:49:12.534436Z",
     "shell.execute_reply": "2022-07-04T14:49:12.533619Z"
    }
   },
   "outputs": [
    {
     "data": {
      "text/plain": [
       "<SkyCoord (GroundFrame): (x, y, z) in m\n",
       "    [(-1.70000009e-02, -1.0000000e-03, 24.35),\n",
       "     (-1.46800005e+00, -1.5122099e+02, 31.  ),\n",
       "     (-3.13799977e+00, -3.2524500e+02, 39.  ),\n",
       "     ( 1.43399990e+00,  1.5122000e+02, 25.  ),\n",
       "     ( 3.10399985e+00,  3.2524301e+02, 23.5 ),\n",
       "     ( 1.56492996e+02,  2.3705199e+02, 24.  ),\n",
       "     ( 1.47427994e+02,  7.4202003e+01, 21.  ),\n",
       "     ( 1.45977005e+02, -7.7018997e+01, 26.  ),\n",
       "     ( 1.51914993e+02, -2.4001300e+02, 30.  ),\n",
       "     (-1.51949005e+02,  2.4001100e+02, 27.  ),\n",
       "     (-1.46011002e+02,  7.7016998e+01, 28.  ),\n",
       "     (-1.47462006e+02, -7.4202995e+01, 28.  ),\n",
       "     (-1.56527008e+02, -2.3705301e+02, 38.5 ),\n",
       "     ( 2.95343018e+02,  4.4746698e+02, 25.  ),\n",
       "     ( 3.17085999e+02,  1.5959300e+02, 18.5 ),\n",
       "     ( 3.08424988e+02, -2.9600000e+00, 19.5 ),\n",
       "     ( 3.13964996e+02, -1.6564999e+02, 22.5 ),\n",
       "     ( 2.86701996e+02, -4.5305399e+02, 38.5 ),\n",
       "     (-2.86834991e+02,  4.5305399e+02, 17.  ),\n",
       "     (-3.13598999e+02,  1.6564600e+02, 30.5 ),\n",
       "     (-3.08459015e+02,  2.9589999e+00, 29.5 ),\n",
       "     (-3.16720001e+02, -1.5959799e+02, 35.  ),\n",
       "     (-2.95476990e+02, -4.4746802e+02, 52.  ),\n",
       "     ( 5.82261963e+02, -5.5879998e+00, 13.5 ),\n",
       "     (-5.82296021e+02,  5.5869999e+00, 36.  ),\n",
       "     (-1.56527008e+02, -2.1305400e+02, 38.5 ),\n",
       "     (-1.21010994e+02,  7.7016998e+01, 28.  ),\n",
       "     (-1.38000000e+02,  5.9299999e+01, 28.  )]>"
      ]
     },
     "execution_count": 26,
     "metadata": {},
     "output_type": "execute_result"
    }
   ],
   "source": [
    "subarray.tel_coords[idx]"
   ]
  },
  {
   "cell_type": "markdown",
   "metadata": {},
   "source": [
    "so, with that method you can quickly get many telescope positions at once (the alternative is to use the dict `positions` which maps `tel_id` to a position on the ground"
   ]
  },
  {
   "cell_type": "code",
   "execution_count": 27,
   "metadata": {
    "execution": {
     "iopub.execute_input": "2022-07-04T14:49:12.539095Z",
     "iopub.status.busy": "2022-07-04T14:49:12.538542Z",
     "iopub.status.idle": "2022-07-04T14:49:12.545311Z",
     "shell.execute_reply": "2022-07-04T14:49:12.544648Z"
    }
   },
   "outputs": [
    {
     "data": {
      "text/latex": [
       "$[-20.643,~-64.817001,~34.299999] \\; \\mathrm{m}$"
      ],
      "text/plain": [
       "<Quantity [-20.643, -64.817,  34.3  ] m>"
      ]
     },
     "execution_count": 27,
     "metadata": {},
     "output_type": "execute_result"
    }
   ],
   "source": [
    "subarray.positions[1]"
   ]
  }
 ],
 "metadata": {
  "kernelspec": {
   "display_name": "Python 3 (ipykernel)",
   "language": "python",
   "name": "python3"
  },
  "language_info": {
   "codemirror_mode": {
    "name": "ipython",
    "version": 3
   },
   "file_extension": ".py",
   "mimetype": "text/x-python",
   "name": "python",
   "nbconvert_exporter": "python",
   "pygments_lexer": "ipython3",
   "version": "3.8.13"
  },
  "widgets": {
   "application/vnd.jupyter.widget-state+json": {
    "state": {
     "0e5dae53baa6462ca816132e33034ae2": {
      "model_module": "@jupyter-widgets/controls",
      "model_module_version": "1.5.0",
      "model_name": "HTMLModel",
      "state": {
       "_dom_classes": [],
       "_model_module": "@jupyter-widgets/controls",
       "_model_module_version": "1.5.0",
       "_model_name": "HTMLModel",
       "_view_count": null,
       "_view_module": "@jupyter-widgets/controls",
       "_view_module_version": "1.5.0",
       "_view_name": "HTMLView",
       "description": "",
       "description_tooltip": null,
       "layout": "IPY_MODEL_f8fdd9a484714ae28636ddf30a3c79c6",
       "placeholder": "​",
       "style": "IPY_MODEL_1d8640d50758490bb3aa951b8ed35b75",
       "value": "Downloading gamma_prod5.simtel.zst: 100%"
      }
     },
     "1d8640d50758490bb3aa951b8ed35b75": {
      "model_module": "@jupyter-widgets/controls",
      "model_module_version": "1.5.0",
      "model_name": "DescriptionStyleModel",
      "state": {
       "_model_module": "@jupyter-widgets/controls",
       "_model_module_version": "1.5.0",
       "_model_name": "DescriptionStyleModel",
       "_view_count": null,
       "_view_module": "@jupyter-widgets/base",
       "_view_module_version": "1.2.0",
       "_view_name": "StyleView",
       "description_width": ""
      }
     },
     "457a904c9daa4e18aa593983a2307c1b": {
      "model_module": "@jupyter-widgets/controls",
      "model_module_version": "1.5.0",
      "model_name": "ProgressStyleModel",
      "state": {
       "_model_module": "@jupyter-widgets/controls",
       "_model_module_version": "1.5.0",
       "_model_name": "ProgressStyleModel",
       "_view_count": null,
       "_view_module": "@jupyter-widgets/base",
       "_view_module_version": "1.2.0",
       "_view_name": "StyleView",
       "bar_color": null,
       "description_width": ""
      }
     },
     "4592726503c44f44b8924be1a7bb6296": {
      "model_module": "@jupyter-widgets/base",
      "model_module_version": "1.2.0",
      "model_name": "LayoutModel",
      "state": {
       "_model_module": "@jupyter-widgets/base",
       "_model_module_version": "1.2.0",
       "_model_name": "LayoutModel",
       "_view_count": null,
       "_view_module": "@jupyter-widgets/base",
       "_view_module_version": "1.2.0",
       "_view_name": "LayoutView",
       "align_content": null,
       "align_items": null,
       "align_self": null,
       "border": null,
       "bottom": null,
       "display": null,
       "flex": null,
       "flex_flow": null,
       "grid_area": null,
       "grid_auto_columns": null,
       "grid_auto_flow": null,
       "grid_auto_rows": null,
       "grid_column": null,
       "grid_gap": null,
       "grid_row": null,
       "grid_template_areas": null,
       "grid_template_columns": null,
       "grid_template_rows": null,
       "height": null,
       "justify_content": null,
       "justify_items": null,
       "left": null,
       "margin": null,
       "max_height": null,
       "max_width": null,
       "min_height": null,
       "min_width": null,
       "object_fit": null,
       "object_position": null,
       "order": null,
       "overflow": null,
       "overflow_x": null,
       "overflow_y": null,
       "padding": null,
       "right": null,
       "top": null,
       "visibility": null,
       "width": null
      }
     },
     "80949cda74fd4c6c8ddbc69e39a779a6": {
      "model_module": "@jupyter-widgets/controls",
      "model_module_version": "1.5.0",
      "model_name": "DescriptionStyleModel",
      "state": {
       "_model_module": "@jupyter-widgets/controls",
       "_model_module_version": "1.5.0",
       "_model_name": "DescriptionStyleModel",
       "_view_count": null,
       "_view_module": "@jupyter-widgets/base",
       "_view_module_version": "1.2.0",
       "_view_name": "StyleView",
       "description_width": ""
      }
     },
     "822b5fc134594df8a3c919a79c5664c6": {
      "model_module": "@jupyter-widgets/controls",
      "model_module_version": "1.5.0",
      "model_name": "HBoxModel",
      "state": {
       "_dom_classes": [],
       "_model_module": "@jupyter-widgets/controls",
       "_model_module_version": "1.5.0",
       "_model_name": "HBoxModel",
       "_view_count": null,
       "_view_module": "@jupyter-widgets/controls",
       "_view_module_version": "1.5.0",
       "_view_name": "HBoxView",
       "box_style": "",
       "children": [
        "IPY_MODEL_0e5dae53baa6462ca816132e33034ae2",
        "IPY_MODEL_8e224e45b79740c3acbeb39f75e60c94",
        "IPY_MODEL_c183d1b7ae5841e1ace5efdfea41e24c"
       ],
       "layout": "IPY_MODEL_b4296dbee74b4199bef3f56415e1da9c"
      }
     },
     "8e224e45b79740c3acbeb39f75e60c94": {
      "model_module": "@jupyter-widgets/controls",
      "model_module_version": "1.5.0",
      "model_name": "FloatProgressModel",
      "state": {
       "_dom_classes": [],
       "_model_module": "@jupyter-widgets/controls",
       "_model_module_version": "1.5.0",
       "_model_name": "FloatProgressModel",
       "_view_count": null,
       "_view_module": "@jupyter-widgets/controls",
       "_view_module_version": "1.5.0",
       "_view_name": "ProgressView",
       "bar_style": "success",
       "description": "",
       "description_tooltip": null,
       "layout": "IPY_MODEL_f109c3d9e506412baea35997322339d4",
       "max": 17517415.0,
       "min": 0.0,
       "orientation": "horizontal",
       "style": "IPY_MODEL_457a904c9daa4e18aa593983a2307c1b",
       "value": 17517415.0
      }
     },
     "b4296dbee74b4199bef3f56415e1da9c": {
      "model_module": "@jupyter-widgets/base",
      "model_module_version": "1.2.0",
      "model_name": "LayoutModel",
      "state": {
       "_model_module": "@jupyter-widgets/base",
       "_model_module_version": "1.2.0",
       "_model_name": "LayoutModel",
       "_view_count": null,
       "_view_module": "@jupyter-widgets/base",
       "_view_module_version": "1.2.0",
       "_view_name": "LayoutView",
       "align_content": null,
       "align_items": null,
       "align_self": null,
       "border": null,
       "bottom": null,
       "display": null,
       "flex": null,
       "flex_flow": null,
       "grid_area": null,
       "grid_auto_columns": null,
       "grid_auto_flow": null,
       "grid_auto_rows": null,
       "grid_column": null,
       "grid_gap": null,
       "grid_row": null,
       "grid_template_areas": null,
       "grid_template_columns": null,
       "grid_template_rows": null,
       "height": null,
       "justify_content": null,
       "justify_items": null,
       "left": null,
       "margin": null,
       "max_height": null,
       "max_width": null,
       "min_height": null,
       "min_width": null,
       "object_fit": null,
       "object_position": null,
       "order": null,
       "overflow": null,
       "overflow_x": null,
       "overflow_y": null,
       "padding": null,
       "right": null,
       "top": null,
       "visibility": null,
       "width": null
      }
     },
     "c183d1b7ae5841e1ace5efdfea41e24c": {
      "model_module": "@jupyter-widgets/controls",
      "model_module_version": "1.5.0",
      "model_name": "HTMLModel",
      "state": {
       "_dom_classes": [],
       "_model_module": "@jupyter-widgets/controls",
       "_model_module_version": "1.5.0",
       "_model_name": "HTMLModel",
       "_view_count": null,
       "_view_module": "@jupyter-widgets/controls",
       "_view_module_version": "1.5.0",
       "_view_name": "HTMLView",
       "description": "",
       "description_tooltip": null,
       "layout": "IPY_MODEL_4592726503c44f44b8924be1a7bb6296",
       "placeholder": "​",
       "style": "IPY_MODEL_80949cda74fd4c6c8ddbc69e39a779a6",
       "value": " 17.5M/17.5M [00:04&lt;00:00, 4.18MB/s]"
      }
     },
     "f109c3d9e506412baea35997322339d4": {
      "model_module": "@jupyter-widgets/base",
      "model_module_version": "1.2.0",
      "model_name": "LayoutModel",
      "state": {
       "_model_module": "@jupyter-widgets/base",
       "_model_module_version": "1.2.0",
       "_model_name": "LayoutModel",
       "_view_count": null,
       "_view_module": "@jupyter-widgets/base",
       "_view_module_version": "1.2.0",
       "_view_name": "LayoutView",
       "align_content": null,
       "align_items": null,
       "align_self": null,
       "border": null,
       "bottom": null,
       "display": null,
       "flex": null,
       "flex_flow": null,
       "grid_area": null,
       "grid_auto_columns": null,
       "grid_auto_flow": null,
       "grid_auto_rows": null,
       "grid_column": null,
       "grid_gap": null,
       "grid_row": null,
       "grid_template_areas": null,
       "grid_template_columns": null,
       "grid_template_rows": null,
       "height": null,
       "justify_content": null,
       "justify_items": null,
       "left": null,
       "margin": null,
       "max_height": null,
       "max_width": null,
       "min_height": null,
       "min_width": null,
       "object_fit": null,
       "object_position": null,
       "order": null,
       "overflow": null,
       "overflow_x": null,
       "overflow_y": null,
       "padding": null,
       "right": null,
       "top": null,
       "visibility": null,
       "width": null
      }
     },
     "f8fdd9a484714ae28636ddf30a3c79c6": {
      "model_module": "@jupyter-widgets/base",
      "model_module_version": "1.2.0",
      "model_name": "LayoutModel",
      "state": {
       "_model_module": "@jupyter-widgets/base",
       "_model_module_version": "1.2.0",
       "_model_name": "LayoutModel",
       "_view_count": null,
       "_view_module": "@jupyter-widgets/base",
       "_view_module_version": "1.2.0",
       "_view_name": "LayoutView",
       "align_content": null,
       "align_items": null,
       "align_self": null,
       "border": null,
       "bottom": null,
       "display": null,
       "flex": null,
       "flex_flow": null,
       "grid_area": null,
       "grid_auto_columns": null,
       "grid_auto_flow": null,
       "grid_auto_rows": null,
       "grid_column": null,
       "grid_gap": null,
       "grid_row": null,
       "grid_template_areas": null,
       "grid_template_columns": null,
       "grid_template_rows": null,
       "height": null,
       "justify_content": null,
       "justify_items": null,
       "left": null,
       "margin": null,
       "max_height": null,
       "max_width": null,
       "min_height": null,
       "min_width": null,
       "object_fit": null,
       "object_position": null,
       "order": null,
       "overflow": null,
       "overflow_x": null,
       "overflow_y": null,
       "padding": null,
       "right": null,
       "top": null,
       "visibility": null,
       "width": null
      }
     }
    },
    "version_major": 2,
    "version_minor": 0
   }
  }
 },
 "nbformat": 4,
 "nbformat_minor": 2
}
