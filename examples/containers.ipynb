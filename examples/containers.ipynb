{
 "cells": [
  {
   "cell_type": "markdown",
   "metadata": {},
   "source": [
    "# Using Container classes\n",
    "\n",
    "`ctapipe.core.Container` is the base class for all event-wise data classes in ctapipe. It works like a object-relational mapper, in that it defines a set of `Fields` along with their metadata (description, unit, default), which can be later translated automatially into an output table using a `ctapipe.io.TableWriter`."
   ]
  },
  {
   "cell_type": "code",
   "execution_count": 1,
   "metadata": {
    "execution": {
     "iopub.execute_input": "2022-07-04T14:49:37.044869Z",
     "iopub.status.busy": "2022-07-04T14:49:37.044567Z",
     "iopub.status.idle": "2022-07-04T14:49:37.470741Z",
     "shell.execute_reply": "2022-07-04T14:49:37.469274Z"
    }
   },
   "outputs": [],
   "source": [
    "from ctapipe.core import Container, Field, Map\n",
    "import numpy as np\n",
    "from astropy import units as u\n",
    "from functools import partial"
   ]
  },
  {
   "cell_type": "markdown",
   "metadata": {},
   "source": [
    "Let's define a few example containers with some dummy fields in them:"
   ]
  },
  {
   "cell_type": "code",
   "execution_count": 2,
   "metadata": {
    "execution": {
     "iopub.execute_input": "2022-07-04T14:49:37.475382Z",
     "iopub.status.busy": "2022-07-04T14:49:37.474993Z",
     "iopub.status.idle": "2022-07-04T14:49:37.483363Z",
     "shell.execute_reply": "2022-07-04T14:49:37.482047Z"
    }
   },
   "outputs": [],
   "source": [
    "class SubContainer(Container):\n",
    "    junk = Field(-1, \"Some junk\")\n",
    "    value = Field(0.0, \"some value\", unit=u.deg)\n",
    "\n",
    "    \n",
    "class TelContainer(Container):\n",
    "    # defaults should match the other requirements, e.g. the defaults\n",
    "    # should have the correct unit. It most often also makes sense to use\n",
    "    # an invalid value marker like nan for floats or -1 for positive integers\n",
    "    # as default\n",
    "    tel_id = Field(-1, \"telescope ID number\")\n",
    "    \n",
    "        \n",
    "    # For mutable structures like lists, arrays or containers, use a `default_factory` function or class\n",
    "    # not an instance to assure each container gets a fresh instance and there is no hidden \n",
    "    # shared state between containers.\n",
    "    image = Field(default_factory=lambda: np.zeros(10), description=\"camera pixel data\")\n",
    "\n",
    "\n",
    "class EventContainer(Container):\n",
    "    event_id = Field(-1,\"event id number\")\n",
    "\n",
    "    tels_with_data = Field(default_factory=list, description=\"list of telescopes with data\")\n",
    "    sub = Field(default_factory=SubContainer, description=\"stuff\")  # a sub-container in the hierarchy\n",
    "\n",
    "    # A Map is like a defaultdictionary with a specific container type as default.\n",
    "    # This can be used to e.g. store a container per telescope\n",
    "    # we use partial here to automatically get a function that creates a map with the correct container type\n",
    "    # as default\n",
    "    tel = Field(default_factory=partial(Map, TelContainer) , description=\"telescopes\")  "
   ]
  },
  {
   "cell_type": "markdown",
   "metadata": {},
   "source": [
    "## Basic features"
   ]
  },
  {
   "cell_type": "code",
   "execution_count": 3,
   "metadata": {
    "execution": {
     "iopub.execute_input": "2022-07-04T14:49:37.486782Z",
     "iopub.status.busy": "2022-07-04T14:49:37.486220Z",
     "iopub.status.idle": "2022-07-04T14:49:37.490691Z",
     "shell.execute_reply": "2022-07-04T14:49:37.490080Z"
    }
   },
   "outputs": [],
   "source": [
    "ev = EventContainer()"
   ]
  },
  {
   "cell_type": "markdown",
   "metadata": {},
   "source": [
    "Check that default values are automatically filled in"
   ]
  },
  {
   "cell_type": "code",
   "execution_count": 4,
   "metadata": {
    "execution": {
     "iopub.execute_input": "2022-07-04T14:49:37.493801Z",
     "iopub.status.busy": "2022-07-04T14:49:37.493455Z",
     "iopub.status.idle": "2022-07-04T14:49:37.499661Z",
     "shell.execute_reply": "2022-07-04T14:49:37.499066Z"
    }
   },
   "outputs": [
    {
     "name": "stdout",
     "output_type": "stream",
     "text": [
      "-1\n",
      "{'junk': -1, 'value': 0.0}\n",
      "Map(__main__.TelContainer, {})\n",
      "dict_keys([])\n",
      "{'image': array([0., 0., 0., 0., 0., 0., 0., 0., 0., 0.]), 'tel_id': -1}\n"
     ]
    }
   ],
   "source": [
    "print(ev.event_id)\n",
    "print(ev.sub)\n",
    "print(ev.tel)\n",
    "print(ev.tel.keys())\n",
    "\n",
    "# default dict access will create container:\n",
    "print(ev.tel[1])"
   ]
  },
  {
   "cell_type": "markdown",
   "metadata": {},
   "source": [
    "print the dict representation"
   ]
  },
  {
   "cell_type": "code",
   "execution_count": 5,
   "metadata": {
    "execution": {
     "iopub.execute_input": "2022-07-04T14:49:37.502852Z",
     "iopub.status.busy": "2022-07-04T14:49:37.502512Z",
     "iopub.status.idle": "2022-07-04T14:49:37.508390Z",
     "shell.execute_reply": "2022-07-04T14:49:37.507756Z"
    }
   },
   "outputs": [
    {
     "name": "stdout",
     "output_type": "stream",
     "text": [
      "{'event_id': -1,\n",
      " 'sub': {'junk': -1, 'value': 0.0},\n",
      " 'tel': {1: {'image': array([0., 0., 0., 0., 0., 0., 0., 0., 0., 0.]),\n",
      "             'tel_id': -1}},\n",
      " 'tels_with_data': []}\n"
     ]
    }
   ],
   "source": [
    "print(ev)"
   ]
  },
  {
   "cell_type": "markdown",
   "metadata": {},
   "source": [
    "We also get docstrings \"for free\""
   ]
  },
  {
   "cell_type": "code",
   "execution_count": 6,
   "metadata": {
    "execution": {
     "iopub.execute_input": "2022-07-04T14:49:37.512761Z",
     "iopub.status.busy": "2022-07-04T14:49:37.511096Z",
     "iopub.status.idle": "2022-07-04T14:49:37.559643Z",
     "shell.execute_reply": "2022-07-04T14:49:37.558461Z"
    },
    "scrolled": false
   },
   "outputs": [],
   "source": [
    "EventContainer?"
   ]
  },
  {
   "cell_type": "code",
   "execution_count": 7,
   "metadata": {
    "execution": {
     "iopub.execute_input": "2022-07-04T14:49:37.562910Z",
     "iopub.status.busy": "2022-07-04T14:49:37.562482Z",
     "iopub.status.idle": "2022-07-04T14:49:37.567533Z",
     "shell.execute_reply": "2022-07-04T14:49:37.566751Z"
    }
   },
   "outputs": [],
   "source": [
    "SubContainer?"
   ]
  },
  {
   "cell_type": "markdown",
   "metadata": {},
   "source": [
    "values can be set as normal for a class:"
   ]
  },
  {
   "cell_type": "code",
   "execution_count": 8,
   "metadata": {
    "execution": {
     "iopub.execute_input": "2022-07-04T14:49:37.570435Z",
     "iopub.status.busy": "2022-07-04T14:49:37.570010Z",
     "iopub.status.idle": "2022-07-04T14:49:37.579003Z",
     "shell.execute_reply": "2022-07-04T14:49:37.578336Z"
    }
   },
   "outputs": [
    {
     "data": {
      "text/plain": [
       "100"
      ]
     },
     "execution_count": 8,
     "metadata": {},
     "output_type": "execute_result"
    }
   ],
   "source": [
    "ev.event_id = 100\n",
    "ev.event_id"
   ]
  },
  {
   "cell_type": "code",
   "execution_count": 9,
   "metadata": {
    "execution": {
     "iopub.execute_input": "2022-07-04T14:49:37.582875Z",
     "iopub.status.busy": "2022-07-04T14:49:37.582280Z",
     "iopub.status.idle": "2022-07-04T14:49:37.587019Z",
     "shell.execute_reply": "2022-07-04T14:49:37.586351Z"
    }
   },
   "outputs": [
    {
     "data": {
      "text/plain": [
       "{'event_id': 100,\n",
       " 'tels_with_data': [],\n",
       " 'sub': __main__.SubContainer:\n",
       "                           junk: Some junk with default -1\n",
       "                          value: some value with default 0.0 [deg],\n",
       " 'tel': Map(__main__.TelContainer, {1: __main__.TelContainer:\n",
       "                         tel_id: telescope ID number with default -1\n",
       "                          image: camera pixel data with default None})}"
      ]
     },
     "execution_count": 9,
     "metadata": {},
     "output_type": "execute_result"
    }
   ],
   "source": [
    "ev.as_dict()  # by default only shows the bare items, not sub-containers (See later)"
   ]
  },
  {
   "cell_type": "code",
   "execution_count": 10,
   "metadata": {
    "execution": {
     "iopub.execute_input": "2022-07-04T14:49:37.590267Z",
     "iopub.status.busy": "2022-07-04T14:49:37.589744Z",
     "iopub.status.idle": "2022-07-04T14:49:37.594637Z",
     "shell.execute_reply": "2022-07-04T14:49:37.593967Z"
    }
   },
   "outputs": [
    {
     "data": {
      "text/plain": [
       "{'event_id': 100,\n",
       " 'tels_with_data': [],\n",
       " 'sub': {'junk': -1, 'value': 0.0},\n",
       " 'tel': {1: {'tel_id': -1,\n",
       "   'image': array([0., 0., 0., 0., 0., 0., 0., 0., 0., 0.])}}}"
      ]
     },
     "execution_count": 10,
     "metadata": {},
     "output_type": "execute_result"
    }
   ],
   "source": [
    "ev.as_dict(recursive=True)"
   ]
  },
  {
   "cell_type": "markdown",
   "metadata": {},
   "source": [
    "and we can add a few of these to the parent container inside the tel dict:"
   ]
  },
  {
   "cell_type": "code",
   "execution_count": 11,
   "metadata": {
    "execution": {
     "iopub.execute_input": "2022-07-04T14:49:37.598392Z",
     "iopub.status.busy": "2022-07-04T14:49:37.597953Z",
     "iopub.status.idle": "2022-07-04T14:49:37.601418Z",
     "shell.execute_reply": "2022-07-04T14:49:37.600736Z"
    }
   },
   "outputs": [],
   "source": [
    "ev.tel[10] = TelContainer()\n",
    "ev.tel[5] = TelContainer()\n",
    "ev.tel[42] = TelContainer()"
   ]
  },
  {
   "cell_type": "code",
   "execution_count": 12,
   "metadata": {
    "execution": {
     "iopub.execute_input": "2022-07-04T14:49:37.604533Z",
     "iopub.status.busy": "2022-07-04T14:49:37.603937Z",
     "iopub.status.idle": "2022-07-04T14:49:37.608409Z",
     "shell.execute_reply": "2022-07-04T14:49:37.607743Z"
    }
   },
   "outputs": [
    {
     "data": {
      "text/plain": [
       "False"
      ]
     },
     "execution_count": 12,
     "metadata": {},
     "output_type": "execute_result"
    }
   ],
   "source": [
    "# because we are using a default_factory to handle mutable defaults, the images are actually different:\n",
    "ev.tel[42].image is ev.tel[32]"
   ]
  },
  {
   "cell_type": "markdown",
   "metadata": {},
   "source": [
    "Be careful to use the `default_factory` mechanism for mutable fields, see this **negative** example:"
   ]
  },
  {
   "cell_type": "code",
   "execution_count": 13,
   "metadata": {
    "execution": {
     "iopub.execute_input": "2022-07-04T14:49:37.611665Z",
     "iopub.status.busy": "2022-07-04T14:49:37.611318Z",
     "iopub.status.idle": "2022-07-04T14:49:37.616320Z",
     "shell.execute_reply": "2022-07-04T14:49:37.615814Z"
    }
   },
   "outputs": [
    {
     "name": "stdout",
     "output_type": "stream",
     "text": [
      "[   0.    0.    0.    0.    0. 9999.    0.    0.    0.    0.]\n",
      "[   0.    0.    0.    0.    0. 9999.    0.    0.    0.    0.]\n",
      "True\n"
     ]
    }
   ],
   "source": [
    "class DangerousContainer(Container):\n",
    "    image = Field(\n",
    "        np.zeros(10),\n",
    "        description=\"Attention!!!! Globally mutable shared state. Use default_factory instead\"\n",
    "    )\n",
    "    \n",
    "    \n",
    "c1 = DangerousContainer()\n",
    "c2 = DangerousContainer()\n",
    "\n",
    "c1.image[5] = 9999\n",
    "\n",
    "print(c1.image)\n",
    "print(c2.image)\n",
    "print(c1.image is c2.image)"
   ]
  },
  {
   "cell_type": "code",
   "execution_count": 14,
   "metadata": {
    "execution": {
     "iopub.execute_input": "2022-07-04T14:49:37.618920Z",
     "iopub.status.busy": "2022-07-04T14:49:37.618705Z",
     "iopub.status.idle": "2022-07-04T14:49:37.623056Z",
     "shell.execute_reply": "2022-07-04T14:49:37.622387Z"
    }
   },
   "outputs": [
    {
     "data": {
      "text/plain": [
       "Map(__main__.TelContainer, {1: __main__.TelContainer:\n",
       "                        tel_id: telescope ID number with default -1\n",
       "                         image: camera pixel data with default None, 10: __main__.TelContainer:\n",
       "                        tel_id: telescope ID number with default -1\n",
       "                         image: camera pixel data with default None, 5: __main__.TelContainer:\n",
       "                        tel_id: telescope ID number with default -1\n",
       "                         image: camera pixel data with default None, 42: __main__.TelContainer:\n",
       "                        tel_id: telescope ID number with default -1\n",
       "                         image: camera pixel data with default None, 32: __main__.TelContainer:\n",
       "                        tel_id: telescope ID number with default -1\n",
       "                         image: camera pixel data with default None})"
      ]
     },
     "execution_count": 14,
     "metadata": {},
     "output_type": "execute_result"
    }
   ],
   "source": [
    "ev.tel"
   ]
  },
  {
   "cell_type": "markdown",
   "metadata": {},
   "source": [
    "## Converion to dictionaries"
   ]
  },
  {
   "cell_type": "code",
   "execution_count": 15,
   "metadata": {
    "execution": {
     "iopub.execute_input": "2022-07-04T14:49:37.626522Z",
     "iopub.status.busy": "2022-07-04T14:49:37.626304Z",
     "iopub.status.idle": "2022-07-04T14:49:37.630839Z",
     "shell.execute_reply": "2022-07-04T14:49:37.630169Z"
    }
   },
   "outputs": [
    {
     "data": {
      "text/plain": [
       "{'event_id': 100,\n",
       " 'tels_with_data': [],\n",
       " 'sub': __main__.SubContainer:\n",
       "                           junk: Some junk with default -1\n",
       "                          value: some value with default 0.0 [deg],\n",
       " 'tel': Map(__main__.TelContainer, {1: __main__.TelContainer:\n",
       "                         tel_id: telescope ID number with default -1\n",
       "                          image: camera pixel data with default None, 10: __main__.TelContainer:\n",
       "                         tel_id: telescope ID number with default -1\n",
       "                          image: camera pixel data with default None, 5: __main__.TelContainer:\n",
       "                         tel_id: telescope ID number with default -1\n",
       "                          image: camera pixel data with default None, 42: __main__.TelContainer:\n",
       "                         tel_id: telescope ID number with default -1\n",
       "                          image: camera pixel data with default None, 32: __main__.TelContainer:\n",
       "                         tel_id: telescope ID number with default -1\n",
       "                          image: camera pixel data with default None})}"
      ]
     },
     "execution_count": 15,
     "metadata": {},
     "output_type": "execute_result"
    }
   ],
   "source": [
    "ev.as_dict()"
   ]
  },
  {
   "cell_type": "code",
   "execution_count": 16,
   "metadata": {
    "execution": {
     "iopub.execute_input": "2022-07-04T14:49:37.634138Z",
     "iopub.status.busy": "2022-07-04T14:49:37.633922Z",
     "iopub.status.idle": "2022-07-04T14:49:37.639202Z",
     "shell.execute_reply": "2022-07-04T14:49:37.638533Z"
    }
   },
   "outputs": [
    {
     "data": {
      "text/plain": [
       "{'event_id': 100,\n",
       " 'tels_with_data': [],\n",
       " 'sub': {'junk': -1, 'value': 0.0},\n",
       " 'tel': {1: {'tel_id': -1,\n",
       "   'image': array([0., 0., 0., 0., 0., 0., 0., 0., 0., 0.])},\n",
       "  10: {'tel_id': -1, 'image': array([0., 0., 0., 0., 0., 0., 0., 0., 0., 0.])},\n",
       "  5: {'tel_id': -1, 'image': array([0., 0., 0., 0., 0., 0., 0., 0., 0., 0.])},\n",
       "  42: {'tel_id': -1, 'image': array([0., 0., 0., 0., 0., 0., 0., 0., 0., 0.])},\n",
       "  32: {'tel_id': -1,\n",
       "   'image': array([0., 0., 0., 0., 0., 0., 0., 0., 0., 0.])}}}"
      ]
     },
     "execution_count": 16,
     "metadata": {},
     "output_type": "execute_result"
    }
   ],
   "source": [
    "ev.as_dict(recursive=True, flatten=False)"
   ]
  },
  {
   "cell_type": "markdown",
   "metadata": {},
   "source": [
    "for serialization to a table, we can even flatten the output into a single set of columns"
   ]
  },
  {
   "cell_type": "code",
   "execution_count": 17,
   "metadata": {
    "execution": {
     "iopub.execute_input": "2022-07-04T14:49:37.642693Z",
     "iopub.status.busy": "2022-07-04T14:49:37.642476Z",
     "iopub.status.idle": "2022-07-04T14:49:37.647747Z",
     "shell.execute_reply": "2022-07-04T14:49:37.647094Z"
    }
   },
   "outputs": [
    {
     "data": {
      "text/plain": [
       "{'event_id': 100,\n",
       " 'tels_with_data': [],\n",
       " 'sub_junk': -1,\n",
       " 'sub_value': 0.0,\n",
       " 'tel_1': {'tel_id': -1,\n",
       "  'image': array([0., 0., 0., 0., 0., 0., 0., 0., 0., 0.])},\n",
       " 'tel_10': {'tel_id': -1,\n",
       "  'image': array([0., 0., 0., 0., 0., 0., 0., 0., 0., 0.])},\n",
       " 'tel_5': {'tel_id': -1,\n",
       "  'image': array([0., 0., 0., 0., 0., 0., 0., 0., 0., 0.])},\n",
       " 'tel_42': {'tel_id': -1,\n",
       "  'image': array([0., 0., 0., 0., 0., 0., 0., 0., 0., 0.])},\n",
       " 'tel_32': {'tel_id': -1,\n",
       "  'image': array([0., 0., 0., 0., 0., 0., 0., 0., 0., 0.])}}"
      ]
     },
     "execution_count": 17,
     "metadata": {},
     "output_type": "execute_result"
    }
   ],
   "source": [
    "ev.as_dict(recursive=True, flatten=True)"
   ]
  },
  {
   "cell_type": "markdown",
   "metadata": {},
   "source": [
    "## Setting and clearing values"
   ]
  },
  {
   "cell_type": "code",
   "execution_count": 18,
   "metadata": {
    "execution": {
     "iopub.execute_input": "2022-07-04T14:49:37.651234Z",
     "iopub.status.busy": "2022-07-04T14:49:37.651018Z",
     "iopub.status.idle": "2022-07-04T14:49:37.656845Z",
     "shell.execute_reply": "2022-07-04T14:49:37.656164Z"
    }
   },
   "outputs": [
    {
     "name": "stdout",
     "output_type": "stream",
     "text": [
      "{'event_id': 100,\n",
      " 'sub': {'junk': -1, 'value': 0.0},\n",
      " 'tel': {1: {'image': array([0., 0., 0., 0., 0., 0., 0., 0., 0., 0.]),\n",
      "             'tel_id': -1},\n",
      "         5: {'image': array([9., 9., 9., 9., 9., 9., 9., 9., 9., 9.]),\n",
      "             'tel_id': -1},\n",
      "         10: {'image': array([0., 0., 0., 0., 0., 0., 0., 0., 0., 0.]),\n",
      "              'tel_id': -1},\n",
      "         32: {'image': array([0., 0., 0., 0., 0., 0., 0., 0., 0., 0.]),\n",
      "              'tel_id': -1},\n",
      "         42: {'image': array([0., 0., 0., 0., 0., 0., 0., 0., 0., 0.]),\n",
      "              'tel_id': -1}},\n",
      " 'tels_with_data': []}\n"
     ]
    }
   ],
   "source": [
    "ev.tel[5].image[:] = 9\n",
    "print(ev)"
   ]
  },
  {
   "cell_type": "code",
   "execution_count": 19,
   "metadata": {
    "execution": {
     "iopub.execute_input": "2022-07-04T14:49:37.660323Z",
     "iopub.status.busy": "2022-07-04T14:49:37.660106Z",
     "iopub.status.idle": "2022-07-04T14:49:37.664480Z",
     "shell.execute_reply": "2022-07-04T14:49:37.663812Z"
    }
   },
   "outputs": [
    {
     "data": {
      "text/plain": [
       "{'event_id': -1,\n",
       " 'tels_with_data': [],\n",
       " 'sub': {'junk': -1, 'value': 0.0},\n",
       " 'tel': {}}"
      ]
     },
     "execution_count": 19,
     "metadata": {},
     "output_type": "execute_result"
    }
   ],
   "source": [
    "ev.reset()\n",
    "ev.as_dict(recursive=True)"
   ]
  },
  {
   "cell_type": "markdown",
   "metadata": {},
   "source": [
    "## look at a pre-defined Container"
   ]
  },
  {
   "cell_type": "code",
   "execution_count": 20,
   "metadata": {
    "execution": {
     "iopub.execute_input": "2022-07-04T14:49:37.667993Z",
     "iopub.status.busy": "2022-07-04T14:49:37.667777Z",
     "iopub.status.idle": "2022-07-04T14:49:37.677643Z",
     "shell.execute_reply": "2022-07-04T14:49:37.676695Z"
    }
   },
   "outputs": [],
   "source": [
    "from ctapipe.containers import SimulatedShowerContainer"
   ]
  },
  {
   "cell_type": "code",
   "execution_count": 21,
   "metadata": {
    "execution": {
     "iopub.execute_input": "2022-07-04T14:49:37.680336Z",
     "iopub.status.busy": "2022-07-04T14:49:37.680118Z",
     "iopub.status.idle": "2022-07-04T14:49:37.684186Z",
     "shell.execute_reply": "2022-07-04T14:49:37.683528Z"
    }
   },
   "outputs": [],
   "source": [
    "SimulatedShowerContainer?"
   ]
  },
  {
   "cell_type": "code",
   "execution_count": 22,
   "metadata": {
    "execution": {
     "iopub.execute_input": "2022-07-04T14:49:37.687011Z",
     "iopub.status.busy": "2022-07-04T14:49:37.686795Z",
     "iopub.status.idle": "2022-07-04T14:49:37.691416Z",
     "shell.execute_reply": "2022-07-04T14:49:37.690760Z"
    },
    "scrolled": true
   },
   "outputs": [
    {
     "data": {
      "text/plain": [
       "ctapipe.containers.SimulatedShowerContainer:\n",
       "                        energy: Simulated Energy with default nan TeV [TeV]\n",
       "                           alt: Simulated altitude with default nan deg [deg]\n",
       "                            az: Simulated azimuth with default nan deg [deg]\n",
       "                        core_x: Simulated core position (x) with default nan m\n",
       "                                [m]\n",
       "                        core_y: Simulated core position (y) with default nan m\n",
       "                                [m]\n",
       "                   h_first_int: Height of first interaction with default nan m\n",
       "                                [m]\n",
       "                         x_max: Simulated Xmax value with default nan g / cm2 [g\n",
       "                                / cm2]\n",
       "             shower_primary_id: Simulated shower primary ID 0 (gamma),\n",
       "                                1(e-),2(mu-), 100*A+Z for nucleons and\n",
       "                                nuclei,negative for antimatter. with default -1"
      ]
     },
     "execution_count": 22,
     "metadata": {},
     "output_type": "execute_result"
    }
   ],
   "source": [
    "shower = SimulatedShowerContainer()\n",
    "shower"
   ]
  },
  {
   "cell_type": "markdown",
   "metadata": {},
   "source": [
    "## Container prefixes\n",
    "\n",
    "To store the same container in the same table in a file or give more information, containers support setting\n",
    "a custom prefix:"
   ]
  },
  {
   "cell_type": "code",
   "execution_count": 23,
   "metadata": {
    "execution": {
     "iopub.execute_input": "2022-07-04T14:49:37.694953Z",
     "iopub.status.busy": "2022-07-04T14:49:37.694736Z",
     "iopub.status.idle": "2022-07-04T14:49:37.700023Z",
     "shell.execute_reply": "2022-07-04T14:49:37.699355Z"
    }
   },
   "outputs": [
    {
     "data": {
      "text/plain": [
       "{'foo_junk': 5, 'foo_value': 3, 'bar_junk': 10, 'bar_value': 9001}"
      ]
     },
     "execution_count": 23,
     "metadata": {},
     "output_type": "execute_result"
    }
   ],
   "source": [
    "c1 = SubContainer(junk=5, value=3, prefix=\"foo\")\n",
    "c2 = SubContainer(junk=10, value=9001, prefix=\"bar\")\n",
    "\n",
    "# create a common dict with data from both containers:\n",
    "d = c1.as_dict(add_prefix=True)\n",
    "d.update(c2.as_dict(add_prefix=True))\n",
    "d"
   ]
  }
 ],
 "metadata": {
  "anaconda-cloud": {},
  "kernelspec": {
   "display_name": "Python 3 (ipykernel)",
   "language": "python",
   "name": "python3"
  },
  "language_info": {
   "codemirror_mode": {
    "name": "ipython",
    "version": 3
   },
   "file_extension": ".py",
   "mimetype": "text/x-python",
   "name": "python",
   "nbconvert_exporter": "python",
   "pygments_lexer": "ipython3",
   "version": "3.8.13"
  }
 },
 "nbformat": 4,
 "nbformat_minor": 4
}
